{
  "nbformat": 4,
  "nbformat_minor": 0,
  "metadata": {
    "colab": {
      "provenance": [],
      "machine_shape": "hm",
      "gpuType": "V100"
    },
    "kernelspec": {
      "name": "python3",
      "display_name": "Python 3"
    },
    "language_info": {
      "name": "python"
    },
    "accelerator": "GPU",
    "widgets": {
      "application/vnd.jupyter.widget-state+json": {
        "66cb50e69be54052acbc2114091e2372": {
          "model_module": "@jupyter-widgets/controls",
          "model_name": "HBoxModel",
          "model_module_version": "1.5.0",
          "state": {
            "_dom_classes": [],
            "_model_module": "@jupyter-widgets/controls",
            "_model_module_version": "1.5.0",
            "_model_name": "HBoxModel",
            "_view_count": null,
            "_view_module": "@jupyter-widgets/controls",
            "_view_module_version": "1.5.0",
            "_view_name": "HBoxView",
            "box_style": "",
            "children": [
              "IPY_MODEL_eb3723de1ba94153889e211e6aee5106",
              "IPY_MODEL_f029f704ca6b440a8e458ea535ac8ff1",
              "IPY_MODEL_fae601fcf1134dc9bf6bf05363e0c1a1"
            ],
            "layout": "IPY_MODEL_9883e8838b2945e780413180464f7841"
          }
        },
        "eb3723de1ba94153889e211e6aee5106": {
          "model_module": "@jupyter-widgets/controls",
          "model_name": "HTMLModel",
          "model_module_version": "1.5.0",
          "state": {
            "_dom_classes": [],
            "_model_module": "@jupyter-widgets/controls",
            "_model_module_version": "1.5.0",
            "_model_name": "HTMLModel",
            "_view_count": null,
            "_view_module": "@jupyter-widgets/controls",
            "_view_module_version": "1.5.0",
            "_view_name": "HTMLView",
            "description": "",
            "description_tooltip": null,
            "layout": "IPY_MODEL_0fc0a49cc79f4cc78cb5fec9b8059059",
            "placeholder": "​",
            "style": "IPY_MODEL_9063abbf6a444334a4fc9901551d7db0",
            "value": "tokenizer_config.json: 100%"
          }
        },
        "f029f704ca6b440a8e458ea535ac8ff1": {
          "model_module": "@jupyter-widgets/controls",
          "model_name": "FloatProgressModel",
          "model_module_version": "1.5.0",
          "state": {
            "_dom_classes": [],
            "_model_module": "@jupyter-widgets/controls",
            "_model_module_version": "1.5.0",
            "_model_name": "FloatProgressModel",
            "_view_count": null,
            "_view_module": "@jupyter-widgets/controls",
            "_view_module_version": "1.5.0",
            "_view_name": "ProgressView",
            "bar_style": "success",
            "description": "",
            "description_tooltip": null,
            "layout": "IPY_MODEL_fae8fc78a00a4d6b943e51589d429692",
            "max": 26,
            "min": 0,
            "orientation": "horizontal",
            "style": "IPY_MODEL_e064203a8a504057af4aaddad7c17f66",
            "value": 26
          }
        },
        "fae601fcf1134dc9bf6bf05363e0c1a1": {
          "model_module": "@jupyter-widgets/controls",
          "model_name": "HTMLModel",
          "model_module_version": "1.5.0",
          "state": {
            "_dom_classes": [],
            "_model_module": "@jupyter-widgets/controls",
            "_model_module_version": "1.5.0",
            "_model_name": "HTMLModel",
            "_view_count": null,
            "_view_module": "@jupyter-widgets/controls",
            "_view_module_version": "1.5.0",
            "_view_name": "HTMLView",
            "description": "",
            "description_tooltip": null,
            "layout": "IPY_MODEL_7413c56596d741e08200f219086bd16f",
            "placeholder": "​",
            "style": "IPY_MODEL_b69118ef60bb4f85ae43ffd7a32cc023",
            "value": " 26.0/26.0 [00:00&lt;00:00, 1.99kB/s]"
          }
        },
        "9883e8838b2945e780413180464f7841": {
          "model_module": "@jupyter-widgets/base",
          "model_name": "LayoutModel",
          "model_module_version": "1.2.0",
          "state": {
            "_model_module": "@jupyter-widgets/base",
            "_model_module_version": "1.2.0",
            "_model_name": "LayoutModel",
            "_view_count": null,
            "_view_module": "@jupyter-widgets/base",
            "_view_module_version": "1.2.0",
            "_view_name": "LayoutView",
            "align_content": null,
            "align_items": null,
            "align_self": null,
            "border": null,
            "bottom": null,
            "display": null,
            "flex": null,
            "flex_flow": null,
            "grid_area": null,
            "grid_auto_columns": null,
            "grid_auto_flow": null,
            "grid_auto_rows": null,
            "grid_column": null,
            "grid_gap": null,
            "grid_row": null,
            "grid_template_areas": null,
            "grid_template_columns": null,
            "grid_template_rows": null,
            "height": null,
            "justify_content": null,
            "justify_items": null,
            "left": null,
            "margin": null,
            "max_height": null,
            "max_width": null,
            "min_height": null,
            "min_width": null,
            "object_fit": null,
            "object_position": null,
            "order": null,
            "overflow": null,
            "overflow_x": null,
            "overflow_y": null,
            "padding": null,
            "right": null,
            "top": null,
            "visibility": null,
            "width": null
          }
        },
        "0fc0a49cc79f4cc78cb5fec9b8059059": {
          "model_module": "@jupyter-widgets/base",
          "model_name": "LayoutModel",
          "model_module_version": "1.2.0",
          "state": {
            "_model_module": "@jupyter-widgets/base",
            "_model_module_version": "1.2.0",
            "_model_name": "LayoutModel",
            "_view_count": null,
            "_view_module": "@jupyter-widgets/base",
            "_view_module_version": "1.2.0",
            "_view_name": "LayoutView",
            "align_content": null,
            "align_items": null,
            "align_self": null,
            "border": null,
            "bottom": null,
            "display": null,
            "flex": null,
            "flex_flow": null,
            "grid_area": null,
            "grid_auto_columns": null,
            "grid_auto_flow": null,
            "grid_auto_rows": null,
            "grid_column": null,
            "grid_gap": null,
            "grid_row": null,
            "grid_template_areas": null,
            "grid_template_columns": null,
            "grid_template_rows": null,
            "height": null,
            "justify_content": null,
            "justify_items": null,
            "left": null,
            "margin": null,
            "max_height": null,
            "max_width": null,
            "min_height": null,
            "min_width": null,
            "object_fit": null,
            "object_position": null,
            "order": null,
            "overflow": null,
            "overflow_x": null,
            "overflow_y": null,
            "padding": null,
            "right": null,
            "top": null,
            "visibility": null,
            "width": null
          }
        },
        "9063abbf6a444334a4fc9901551d7db0": {
          "model_module": "@jupyter-widgets/controls",
          "model_name": "DescriptionStyleModel",
          "model_module_version": "1.5.0",
          "state": {
            "_model_module": "@jupyter-widgets/controls",
            "_model_module_version": "1.5.0",
            "_model_name": "DescriptionStyleModel",
            "_view_count": null,
            "_view_module": "@jupyter-widgets/base",
            "_view_module_version": "1.2.0",
            "_view_name": "StyleView",
            "description_width": ""
          }
        },
        "fae8fc78a00a4d6b943e51589d429692": {
          "model_module": "@jupyter-widgets/base",
          "model_name": "LayoutModel",
          "model_module_version": "1.2.0",
          "state": {
            "_model_module": "@jupyter-widgets/base",
            "_model_module_version": "1.2.0",
            "_model_name": "LayoutModel",
            "_view_count": null,
            "_view_module": "@jupyter-widgets/base",
            "_view_module_version": "1.2.0",
            "_view_name": "LayoutView",
            "align_content": null,
            "align_items": null,
            "align_self": null,
            "border": null,
            "bottom": null,
            "display": null,
            "flex": null,
            "flex_flow": null,
            "grid_area": null,
            "grid_auto_columns": null,
            "grid_auto_flow": null,
            "grid_auto_rows": null,
            "grid_column": null,
            "grid_gap": null,
            "grid_row": null,
            "grid_template_areas": null,
            "grid_template_columns": null,
            "grid_template_rows": null,
            "height": null,
            "justify_content": null,
            "justify_items": null,
            "left": null,
            "margin": null,
            "max_height": null,
            "max_width": null,
            "min_height": null,
            "min_width": null,
            "object_fit": null,
            "object_position": null,
            "order": null,
            "overflow": null,
            "overflow_x": null,
            "overflow_y": null,
            "padding": null,
            "right": null,
            "top": null,
            "visibility": null,
            "width": null
          }
        },
        "e064203a8a504057af4aaddad7c17f66": {
          "model_module": "@jupyter-widgets/controls",
          "model_name": "ProgressStyleModel",
          "model_module_version": "1.5.0",
          "state": {
            "_model_module": "@jupyter-widgets/controls",
            "_model_module_version": "1.5.0",
            "_model_name": "ProgressStyleModel",
            "_view_count": null,
            "_view_module": "@jupyter-widgets/base",
            "_view_module_version": "1.2.0",
            "_view_name": "StyleView",
            "bar_color": null,
            "description_width": ""
          }
        },
        "7413c56596d741e08200f219086bd16f": {
          "model_module": "@jupyter-widgets/base",
          "model_name": "LayoutModel",
          "model_module_version": "1.2.0",
          "state": {
            "_model_module": "@jupyter-widgets/base",
            "_model_module_version": "1.2.0",
            "_model_name": "LayoutModel",
            "_view_count": null,
            "_view_module": "@jupyter-widgets/base",
            "_view_module_version": "1.2.0",
            "_view_name": "LayoutView",
            "align_content": null,
            "align_items": null,
            "align_self": null,
            "border": null,
            "bottom": null,
            "display": null,
            "flex": null,
            "flex_flow": null,
            "grid_area": null,
            "grid_auto_columns": null,
            "grid_auto_flow": null,
            "grid_auto_rows": null,
            "grid_column": null,
            "grid_gap": null,
            "grid_row": null,
            "grid_template_areas": null,
            "grid_template_columns": null,
            "grid_template_rows": null,
            "height": null,
            "justify_content": null,
            "justify_items": null,
            "left": null,
            "margin": null,
            "max_height": null,
            "max_width": null,
            "min_height": null,
            "min_width": null,
            "object_fit": null,
            "object_position": null,
            "order": null,
            "overflow": null,
            "overflow_x": null,
            "overflow_y": null,
            "padding": null,
            "right": null,
            "top": null,
            "visibility": null,
            "width": null
          }
        },
        "b69118ef60bb4f85ae43ffd7a32cc023": {
          "model_module": "@jupyter-widgets/controls",
          "model_name": "DescriptionStyleModel",
          "model_module_version": "1.5.0",
          "state": {
            "_model_module": "@jupyter-widgets/controls",
            "_model_module_version": "1.5.0",
            "_model_name": "DescriptionStyleModel",
            "_view_count": null,
            "_view_module": "@jupyter-widgets/base",
            "_view_module_version": "1.2.0",
            "_view_name": "StyleView",
            "description_width": ""
          }
        },
        "94f23a4da3a04e23ae2265b6f686e021": {
          "model_module": "@jupyter-widgets/controls",
          "model_name": "HBoxModel",
          "model_module_version": "1.5.0",
          "state": {
            "_dom_classes": [],
            "_model_module": "@jupyter-widgets/controls",
            "_model_module_version": "1.5.0",
            "_model_name": "HBoxModel",
            "_view_count": null,
            "_view_module": "@jupyter-widgets/controls",
            "_view_module_version": "1.5.0",
            "_view_name": "HBoxView",
            "box_style": "",
            "children": [
              "IPY_MODEL_fcc656ccbbff4cab94f34779330c9aa8",
              "IPY_MODEL_cf23e623bb264566ba57171aa8dc2e54",
              "IPY_MODEL_bce0bd7f66ce4b35b0d71a744b3c298a"
            ],
            "layout": "IPY_MODEL_8a2e2ded42044163afa8302bd59b8620"
          }
        },
        "fcc656ccbbff4cab94f34779330c9aa8": {
          "model_module": "@jupyter-widgets/controls",
          "model_name": "HTMLModel",
          "model_module_version": "1.5.0",
          "state": {
            "_dom_classes": [],
            "_model_module": "@jupyter-widgets/controls",
            "_model_module_version": "1.5.0",
            "_model_name": "HTMLModel",
            "_view_count": null,
            "_view_module": "@jupyter-widgets/controls",
            "_view_module_version": "1.5.0",
            "_view_name": "HTMLView",
            "description": "",
            "description_tooltip": null,
            "layout": "IPY_MODEL_a896c10c9da447248cbdca5dafc240c4",
            "placeholder": "​",
            "style": "IPY_MODEL_e1d5332bccbc4657a119a82d9ee169b8",
            "value": "config.json: 100%"
          }
        },
        "cf23e623bb264566ba57171aa8dc2e54": {
          "model_module": "@jupyter-widgets/controls",
          "model_name": "FloatProgressModel",
          "model_module_version": "1.5.0",
          "state": {
            "_dom_classes": [],
            "_model_module": "@jupyter-widgets/controls",
            "_model_module_version": "1.5.0",
            "_model_name": "FloatProgressModel",
            "_view_count": null,
            "_view_module": "@jupyter-widgets/controls",
            "_view_module_version": "1.5.0",
            "_view_name": "ProgressView",
            "bar_style": "success",
            "description": "",
            "description_tooltip": null,
            "layout": "IPY_MODEL_88c1ae70654d4c4b9b0693ef5679b423",
            "max": 666,
            "min": 0,
            "orientation": "horizontal",
            "style": "IPY_MODEL_fae5b614844148d881e5b0d13f73eb66",
            "value": 666
          }
        },
        "bce0bd7f66ce4b35b0d71a744b3c298a": {
          "model_module": "@jupyter-widgets/controls",
          "model_name": "HTMLModel",
          "model_module_version": "1.5.0",
          "state": {
            "_dom_classes": [],
            "_model_module": "@jupyter-widgets/controls",
            "_model_module_version": "1.5.0",
            "_model_name": "HTMLModel",
            "_view_count": null,
            "_view_module": "@jupyter-widgets/controls",
            "_view_module_version": "1.5.0",
            "_view_name": "HTMLView",
            "description": "",
            "description_tooltip": null,
            "layout": "IPY_MODEL_c01f07f17fb846d2ba45bcd0352998b9",
            "placeholder": "​",
            "style": "IPY_MODEL_e439c5273ea94ac78c192e27df713507",
            "value": " 666/666 [00:00&lt;00:00, 65.5kB/s]"
          }
        },
        "8a2e2ded42044163afa8302bd59b8620": {
          "model_module": "@jupyter-widgets/base",
          "model_name": "LayoutModel",
          "model_module_version": "1.2.0",
          "state": {
            "_model_module": "@jupyter-widgets/base",
            "_model_module_version": "1.2.0",
            "_model_name": "LayoutModel",
            "_view_count": null,
            "_view_module": "@jupyter-widgets/base",
            "_view_module_version": "1.2.0",
            "_view_name": "LayoutView",
            "align_content": null,
            "align_items": null,
            "align_self": null,
            "border": null,
            "bottom": null,
            "display": null,
            "flex": null,
            "flex_flow": null,
            "grid_area": null,
            "grid_auto_columns": null,
            "grid_auto_flow": null,
            "grid_auto_rows": null,
            "grid_column": null,
            "grid_gap": null,
            "grid_row": null,
            "grid_template_areas": null,
            "grid_template_columns": null,
            "grid_template_rows": null,
            "height": null,
            "justify_content": null,
            "justify_items": null,
            "left": null,
            "margin": null,
            "max_height": null,
            "max_width": null,
            "min_height": null,
            "min_width": null,
            "object_fit": null,
            "object_position": null,
            "order": null,
            "overflow": null,
            "overflow_x": null,
            "overflow_y": null,
            "padding": null,
            "right": null,
            "top": null,
            "visibility": null,
            "width": null
          }
        },
        "a896c10c9da447248cbdca5dafc240c4": {
          "model_module": "@jupyter-widgets/base",
          "model_name": "LayoutModel",
          "model_module_version": "1.2.0",
          "state": {
            "_model_module": "@jupyter-widgets/base",
            "_model_module_version": "1.2.0",
            "_model_name": "LayoutModel",
            "_view_count": null,
            "_view_module": "@jupyter-widgets/base",
            "_view_module_version": "1.2.0",
            "_view_name": "LayoutView",
            "align_content": null,
            "align_items": null,
            "align_self": null,
            "border": null,
            "bottom": null,
            "display": null,
            "flex": null,
            "flex_flow": null,
            "grid_area": null,
            "grid_auto_columns": null,
            "grid_auto_flow": null,
            "grid_auto_rows": null,
            "grid_column": null,
            "grid_gap": null,
            "grid_row": null,
            "grid_template_areas": null,
            "grid_template_columns": null,
            "grid_template_rows": null,
            "height": null,
            "justify_content": null,
            "justify_items": null,
            "left": null,
            "margin": null,
            "max_height": null,
            "max_width": null,
            "min_height": null,
            "min_width": null,
            "object_fit": null,
            "object_position": null,
            "order": null,
            "overflow": null,
            "overflow_x": null,
            "overflow_y": null,
            "padding": null,
            "right": null,
            "top": null,
            "visibility": null,
            "width": null
          }
        },
        "e1d5332bccbc4657a119a82d9ee169b8": {
          "model_module": "@jupyter-widgets/controls",
          "model_name": "DescriptionStyleModel",
          "model_module_version": "1.5.0",
          "state": {
            "_model_module": "@jupyter-widgets/controls",
            "_model_module_version": "1.5.0",
            "_model_name": "DescriptionStyleModel",
            "_view_count": null,
            "_view_module": "@jupyter-widgets/base",
            "_view_module_version": "1.2.0",
            "_view_name": "StyleView",
            "description_width": ""
          }
        },
        "88c1ae70654d4c4b9b0693ef5679b423": {
          "model_module": "@jupyter-widgets/base",
          "model_name": "LayoutModel",
          "model_module_version": "1.2.0",
          "state": {
            "_model_module": "@jupyter-widgets/base",
            "_model_module_version": "1.2.0",
            "_model_name": "LayoutModel",
            "_view_count": null,
            "_view_module": "@jupyter-widgets/base",
            "_view_module_version": "1.2.0",
            "_view_name": "LayoutView",
            "align_content": null,
            "align_items": null,
            "align_self": null,
            "border": null,
            "bottom": null,
            "display": null,
            "flex": null,
            "flex_flow": null,
            "grid_area": null,
            "grid_auto_columns": null,
            "grid_auto_flow": null,
            "grid_auto_rows": null,
            "grid_column": null,
            "grid_gap": null,
            "grid_row": null,
            "grid_template_areas": null,
            "grid_template_columns": null,
            "grid_template_rows": null,
            "height": null,
            "justify_content": null,
            "justify_items": null,
            "left": null,
            "margin": null,
            "max_height": null,
            "max_width": null,
            "min_height": null,
            "min_width": null,
            "object_fit": null,
            "object_position": null,
            "order": null,
            "overflow": null,
            "overflow_x": null,
            "overflow_y": null,
            "padding": null,
            "right": null,
            "top": null,
            "visibility": null,
            "width": null
          }
        },
        "fae5b614844148d881e5b0d13f73eb66": {
          "model_module": "@jupyter-widgets/controls",
          "model_name": "ProgressStyleModel",
          "model_module_version": "1.5.0",
          "state": {
            "_model_module": "@jupyter-widgets/controls",
            "_model_module_version": "1.5.0",
            "_model_name": "ProgressStyleModel",
            "_view_count": null,
            "_view_module": "@jupyter-widgets/base",
            "_view_module_version": "1.2.0",
            "_view_name": "StyleView",
            "bar_color": null,
            "description_width": ""
          }
        },
        "c01f07f17fb846d2ba45bcd0352998b9": {
          "model_module": "@jupyter-widgets/base",
          "model_name": "LayoutModel",
          "model_module_version": "1.2.0",
          "state": {
            "_model_module": "@jupyter-widgets/base",
            "_model_module_version": "1.2.0",
            "_model_name": "LayoutModel",
            "_view_count": null,
            "_view_module": "@jupyter-widgets/base",
            "_view_module_version": "1.2.0",
            "_view_name": "LayoutView",
            "align_content": null,
            "align_items": null,
            "align_self": null,
            "border": null,
            "bottom": null,
            "display": null,
            "flex": null,
            "flex_flow": null,
            "grid_area": null,
            "grid_auto_columns": null,
            "grid_auto_flow": null,
            "grid_auto_rows": null,
            "grid_column": null,
            "grid_gap": null,
            "grid_row": null,
            "grid_template_areas": null,
            "grid_template_columns": null,
            "grid_template_rows": null,
            "height": null,
            "justify_content": null,
            "justify_items": null,
            "left": null,
            "margin": null,
            "max_height": null,
            "max_width": null,
            "min_height": null,
            "min_width": null,
            "object_fit": null,
            "object_position": null,
            "order": null,
            "overflow": null,
            "overflow_x": null,
            "overflow_y": null,
            "padding": null,
            "right": null,
            "top": null,
            "visibility": null,
            "width": null
          }
        },
        "e439c5273ea94ac78c192e27df713507": {
          "model_module": "@jupyter-widgets/controls",
          "model_name": "DescriptionStyleModel",
          "model_module_version": "1.5.0",
          "state": {
            "_model_module": "@jupyter-widgets/controls",
            "_model_module_version": "1.5.0",
            "_model_name": "DescriptionStyleModel",
            "_view_count": null,
            "_view_module": "@jupyter-widgets/base",
            "_view_module_version": "1.2.0",
            "_view_name": "StyleView",
            "description_width": ""
          }
        },
        "edb8a684caff496988f1de1a89d5f99d": {
          "model_module": "@jupyter-widgets/controls",
          "model_name": "HBoxModel",
          "model_module_version": "1.5.0",
          "state": {
            "_dom_classes": [],
            "_model_module": "@jupyter-widgets/controls",
            "_model_module_version": "1.5.0",
            "_model_name": "HBoxModel",
            "_view_count": null,
            "_view_module": "@jupyter-widgets/controls",
            "_view_module_version": "1.5.0",
            "_view_name": "HBoxView",
            "box_style": "",
            "children": [
              "IPY_MODEL_89c5b18a465f47deaa20cdd9234da50c",
              "IPY_MODEL_3a22d1ab135a4bceb0b59a0c0c89d720",
              "IPY_MODEL_5bb0e0125b154fcb92ec837d106cfacf"
            ],
            "layout": "IPY_MODEL_d48c33545063493d96ea866b22607c0c"
          }
        },
        "89c5b18a465f47deaa20cdd9234da50c": {
          "model_module": "@jupyter-widgets/controls",
          "model_name": "HTMLModel",
          "model_module_version": "1.5.0",
          "state": {
            "_dom_classes": [],
            "_model_module": "@jupyter-widgets/controls",
            "_model_module_version": "1.5.0",
            "_model_name": "HTMLModel",
            "_view_count": null,
            "_view_module": "@jupyter-widgets/controls",
            "_view_module_version": "1.5.0",
            "_view_name": "HTMLView",
            "description": "",
            "description_tooltip": null,
            "layout": "IPY_MODEL_65e221004a554228a1aca925c4a1bd02",
            "placeholder": "​",
            "style": "IPY_MODEL_a92a85c5079046b1a0670f5c0b078aea",
            "value": "vocab.json: 100%"
          }
        },
        "3a22d1ab135a4bceb0b59a0c0c89d720": {
          "model_module": "@jupyter-widgets/controls",
          "model_name": "FloatProgressModel",
          "model_module_version": "1.5.0",
          "state": {
            "_dom_classes": [],
            "_model_module": "@jupyter-widgets/controls",
            "_model_module_version": "1.5.0",
            "_model_name": "FloatProgressModel",
            "_view_count": null,
            "_view_module": "@jupyter-widgets/controls",
            "_view_module_version": "1.5.0",
            "_view_name": "ProgressView",
            "bar_style": "success",
            "description": "",
            "description_tooltip": null,
            "layout": "IPY_MODEL_6bf1170215764d84bf34181bca73cdb3",
            "max": 1042301,
            "min": 0,
            "orientation": "horizontal",
            "style": "IPY_MODEL_4c6abff889f84543a2f9f77f659a803c",
            "value": 1042301
          }
        },
        "5bb0e0125b154fcb92ec837d106cfacf": {
          "model_module": "@jupyter-widgets/controls",
          "model_name": "HTMLModel",
          "model_module_version": "1.5.0",
          "state": {
            "_dom_classes": [],
            "_model_module": "@jupyter-widgets/controls",
            "_model_module_version": "1.5.0",
            "_model_name": "HTMLModel",
            "_view_count": null,
            "_view_module": "@jupyter-widgets/controls",
            "_view_module_version": "1.5.0",
            "_view_name": "HTMLView",
            "description": "",
            "description_tooltip": null,
            "layout": "IPY_MODEL_5004150eb3b04f99a5aecdbff90397d7",
            "placeholder": "​",
            "style": "IPY_MODEL_d82a6a53cd09461dbb16733b4afe60e2",
            "value": " 1.04M/1.04M [00:00&lt;00:00, 3.21MB/s]"
          }
        },
        "d48c33545063493d96ea866b22607c0c": {
          "model_module": "@jupyter-widgets/base",
          "model_name": "LayoutModel",
          "model_module_version": "1.2.0",
          "state": {
            "_model_module": "@jupyter-widgets/base",
            "_model_module_version": "1.2.0",
            "_model_name": "LayoutModel",
            "_view_count": null,
            "_view_module": "@jupyter-widgets/base",
            "_view_module_version": "1.2.0",
            "_view_name": "LayoutView",
            "align_content": null,
            "align_items": null,
            "align_self": null,
            "border": null,
            "bottom": null,
            "display": null,
            "flex": null,
            "flex_flow": null,
            "grid_area": null,
            "grid_auto_columns": null,
            "grid_auto_flow": null,
            "grid_auto_rows": null,
            "grid_column": null,
            "grid_gap": null,
            "grid_row": null,
            "grid_template_areas": null,
            "grid_template_columns": null,
            "grid_template_rows": null,
            "height": null,
            "justify_content": null,
            "justify_items": null,
            "left": null,
            "margin": null,
            "max_height": null,
            "max_width": null,
            "min_height": null,
            "min_width": null,
            "object_fit": null,
            "object_position": null,
            "order": null,
            "overflow": null,
            "overflow_x": null,
            "overflow_y": null,
            "padding": null,
            "right": null,
            "top": null,
            "visibility": null,
            "width": null
          }
        },
        "65e221004a554228a1aca925c4a1bd02": {
          "model_module": "@jupyter-widgets/base",
          "model_name": "LayoutModel",
          "model_module_version": "1.2.0",
          "state": {
            "_model_module": "@jupyter-widgets/base",
            "_model_module_version": "1.2.0",
            "_model_name": "LayoutModel",
            "_view_count": null,
            "_view_module": "@jupyter-widgets/base",
            "_view_module_version": "1.2.0",
            "_view_name": "LayoutView",
            "align_content": null,
            "align_items": null,
            "align_self": null,
            "border": null,
            "bottom": null,
            "display": null,
            "flex": null,
            "flex_flow": null,
            "grid_area": null,
            "grid_auto_columns": null,
            "grid_auto_flow": null,
            "grid_auto_rows": null,
            "grid_column": null,
            "grid_gap": null,
            "grid_row": null,
            "grid_template_areas": null,
            "grid_template_columns": null,
            "grid_template_rows": null,
            "height": null,
            "justify_content": null,
            "justify_items": null,
            "left": null,
            "margin": null,
            "max_height": null,
            "max_width": null,
            "min_height": null,
            "min_width": null,
            "object_fit": null,
            "object_position": null,
            "order": null,
            "overflow": null,
            "overflow_x": null,
            "overflow_y": null,
            "padding": null,
            "right": null,
            "top": null,
            "visibility": null,
            "width": null
          }
        },
        "a92a85c5079046b1a0670f5c0b078aea": {
          "model_module": "@jupyter-widgets/controls",
          "model_name": "DescriptionStyleModel",
          "model_module_version": "1.5.0",
          "state": {
            "_model_module": "@jupyter-widgets/controls",
            "_model_module_version": "1.5.0",
            "_model_name": "DescriptionStyleModel",
            "_view_count": null,
            "_view_module": "@jupyter-widgets/base",
            "_view_module_version": "1.2.0",
            "_view_name": "StyleView",
            "description_width": ""
          }
        },
        "6bf1170215764d84bf34181bca73cdb3": {
          "model_module": "@jupyter-widgets/base",
          "model_name": "LayoutModel",
          "model_module_version": "1.2.0",
          "state": {
            "_model_module": "@jupyter-widgets/base",
            "_model_module_version": "1.2.0",
            "_model_name": "LayoutModel",
            "_view_count": null,
            "_view_module": "@jupyter-widgets/base",
            "_view_module_version": "1.2.0",
            "_view_name": "LayoutView",
            "align_content": null,
            "align_items": null,
            "align_self": null,
            "border": null,
            "bottom": null,
            "display": null,
            "flex": null,
            "flex_flow": null,
            "grid_area": null,
            "grid_auto_columns": null,
            "grid_auto_flow": null,
            "grid_auto_rows": null,
            "grid_column": null,
            "grid_gap": null,
            "grid_row": null,
            "grid_template_areas": null,
            "grid_template_columns": null,
            "grid_template_rows": null,
            "height": null,
            "justify_content": null,
            "justify_items": null,
            "left": null,
            "margin": null,
            "max_height": null,
            "max_width": null,
            "min_height": null,
            "min_width": null,
            "object_fit": null,
            "object_position": null,
            "order": null,
            "overflow": null,
            "overflow_x": null,
            "overflow_y": null,
            "padding": null,
            "right": null,
            "top": null,
            "visibility": null,
            "width": null
          }
        },
        "4c6abff889f84543a2f9f77f659a803c": {
          "model_module": "@jupyter-widgets/controls",
          "model_name": "ProgressStyleModel",
          "model_module_version": "1.5.0",
          "state": {
            "_model_module": "@jupyter-widgets/controls",
            "_model_module_version": "1.5.0",
            "_model_name": "ProgressStyleModel",
            "_view_count": null,
            "_view_module": "@jupyter-widgets/base",
            "_view_module_version": "1.2.0",
            "_view_name": "StyleView",
            "bar_color": null,
            "description_width": ""
          }
        },
        "5004150eb3b04f99a5aecdbff90397d7": {
          "model_module": "@jupyter-widgets/base",
          "model_name": "LayoutModel",
          "model_module_version": "1.2.0",
          "state": {
            "_model_module": "@jupyter-widgets/base",
            "_model_module_version": "1.2.0",
            "_model_name": "LayoutModel",
            "_view_count": null,
            "_view_module": "@jupyter-widgets/base",
            "_view_module_version": "1.2.0",
            "_view_name": "LayoutView",
            "align_content": null,
            "align_items": null,
            "align_self": null,
            "border": null,
            "bottom": null,
            "display": null,
            "flex": null,
            "flex_flow": null,
            "grid_area": null,
            "grid_auto_columns": null,
            "grid_auto_flow": null,
            "grid_auto_rows": null,
            "grid_column": null,
            "grid_gap": null,
            "grid_row": null,
            "grid_template_areas": null,
            "grid_template_columns": null,
            "grid_template_rows": null,
            "height": null,
            "justify_content": null,
            "justify_items": null,
            "left": null,
            "margin": null,
            "max_height": null,
            "max_width": null,
            "min_height": null,
            "min_width": null,
            "object_fit": null,
            "object_position": null,
            "order": null,
            "overflow": null,
            "overflow_x": null,
            "overflow_y": null,
            "padding": null,
            "right": null,
            "top": null,
            "visibility": null,
            "width": null
          }
        },
        "d82a6a53cd09461dbb16733b4afe60e2": {
          "model_module": "@jupyter-widgets/controls",
          "model_name": "DescriptionStyleModel",
          "model_module_version": "1.5.0",
          "state": {
            "_model_module": "@jupyter-widgets/controls",
            "_model_module_version": "1.5.0",
            "_model_name": "DescriptionStyleModel",
            "_view_count": null,
            "_view_module": "@jupyter-widgets/base",
            "_view_module_version": "1.2.0",
            "_view_name": "StyleView",
            "description_width": ""
          }
        },
        "4dc85e476dfc4262956844755dc48e0f": {
          "model_module": "@jupyter-widgets/controls",
          "model_name": "HBoxModel",
          "model_module_version": "1.5.0",
          "state": {
            "_dom_classes": [],
            "_model_module": "@jupyter-widgets/controls",
            "_model_module_version": "1.5.0",
            "_model_name": "HBoxModel",
            "_view_count": null,
            "_view_module": "@jupyter-widgets/controls",
            "_view_module_version": "1.5.0",
            "_view_name": "HBoxView",
            "box_style": "",
            "children": [
              "IPY_MODEL_18a9ed58f7f54d718f79586eede93618",
              "IPY_MODEL_2e75ec17ea4343dcb8a87f70142ebac5",
              "IPY_MODEL_5f3d6cd41c6d465694a241e35a2c00ed"
            ],
            "layout": "IPY_MODEL_39effede897d439288c960b908386a75"
          }
        },
        "18a9ed58f7f54d718f79586eede93618": {
          "model_module": "@jupyter-widgets/controls",
          "model_name": "HTMLModel",
          "model_module_version": "1.5.0",
          "state": {
            "_dom_classes": [],
            "_model_module": "@jupyter-widgets/controls",
            "_model_module_version": "1.5.0",
            "_model_name": "HTMLModel",
            "_view_count": null,
            "_view_module": "@jupyter-widgets/controls",
            "_view_module_version": "1.5.0",
            "_view_name": "HTMLView",
            "description": "",
            "description_tooltip": null,
            "layout": "IPY_MODEL_14ef137698bb4ba1ac7c241d5a7bbcfe",
            "placeholder": "​",
            "style": "IPY_MODEL_52c3cad8310b4e898d85bdd2f4385c73",
            "value": "merges.txt: 100%"
          }
        },
        "2e75ec17ea4343dcb8a87f70142ebac5": {
          "model_module": "@jupyter-widgets/controls",
          "model_name": "FloatProgressModel",
          "model_module_version": "1.5.0",
          "state": {
            "_dom_classes": [],
            "_model_module": "@jupyter-widgets/controls",
            "_model_module_version": "1.5.0",
            "_model_name": "FloatProgressModel",
            "_view_count": null,
            "_view_module": "@jupyter-widgets/controls",
            "_view_module_version": "1.5.0",
            "_view_name": "ProgressView",
            "bar_style": "success",
            "description": "",
            "description_tooltip": null,
            "layout": "IPY_MODEL_cbaf879a5e374a15a3883b6c0c7c9a6c",
            "max": 456318,
            "min": 0,
            "orientation": "horizontal",
            "style": "IPY_MODEL_d430e0704d3e4451bc4cd839bcfb4556",
            "value": 456318
          }
        },
        "5f3d6cd41c6d465694a241e35a2c00ed": {
          "model_module": "@jupyter-widgets/controls",
          "model_name": "HTMLModel",
          "model_module_version": "1.5.0",
          "state": {
            "_dom_classes": [],
            "_model_module": "@jupyter-widgets/controls",
            "_model_module_version": "1.5.0",
            "_model_name": "HTMLModel",
            "_view_count": null,
            "_view_module": "@jupyter-widgets/controls",
            "_view_module_version": "1.5.0",
            "_view_name": "HTMLView",
            "description": "",
            "description_tooltip": null,
            "layout": "IPY_MODEL_17cb0e2eb3fd47ccb3a1a65e4b9b752f",
            "placeholder": "​",
            "style": "IPY_MODEL_1034702b6ebb4a21904319a69dbd487e",
            "value": " 456k/456k [00:00&lt;00:00, 2.72MB/s]"
          }
        },
        "39effede897d439288c960b908386a75": {
          "model_module": "@jupyter-widgets/base",
          "model_name": "LayoutModel",
          "model_module_version": "1.2.0",
          "state": {
            "_model_module": "@jupyter-widgets/base",
            "_model_module_version": "1.2.0",
            "_model_name": "LayoutModel",
            "_view_count": null,
            "_view_module": "@jupyter-widgets/base",
            "_view_module_version": "1.2.0",
            "_view_name": "LayoutView",
            "align_content": null,
            "align_items": null,
            "align_self": null,
            "border": null,
            "bottom": null,
            "display": null,
            "flex": null,
            "flex_flow": null,
            "grid_area": null,
            "grid_auto_columns": null,
            "grid_auto_flow": null,
            "grid_auto_rows": null,
            "grid_column": null,
            "grid_gap": null,
            "grid_row": null,
            "grid_template_areas": null,
            "grid_template_columns": null,
            "grid_template_rows": null,
            "height": null,
            "justify_content": null,
            "justify_items": null,
            "left": null,
            "margin": null,
            "max_height": null,
            "max_width": null,
            "min_height": null,
            "min_width": null,
            "object_fit": null,
            "object_position": null,
            "order": null,
            "overflow": null,
            "overflow_x": null,
            "overflow_y": null,
            "padding": null,
            "right": null,
            "top": null,
            "visibility": null,
            "width": null
          }
        },
        "14ef137698bb4ba1ac7c241d5a7bbcfe": {
          "model_module": "@jupyter-widgets/base",
          "model_name": "LayoutModel",
          "model_module_version": "1.2.0",
          "state": {
            "_model_module": "@jupyter-widgets/base",
            "_model_module_version": "1.2.0",
            "_model_name": "LayoutModel",
            "_view_count": null,
            "_view_module": "@jupyter-widgets/base",
            "_view_module_version": "1.2.0",
            "_view_name": "LayoutView",
            "align_content": null,
            "align_items": null,
            "align_self": null,
            "border": null,
            "bottom": null,
            "display": null,
            "flex": null,
            "flex_flow": null,
            "grid_area": null,
            "grid_auto_columns": null,
            "grid_auto_flow": null,
            "grid_auto_rows": null,
            "grid_column": null,
            "grid_gap": null,
            "grid_row": null,
            "grid_template_areas": null,
            "grid_template_columns": null,
            "grid_template_rows": null,
            "height": null,
            "justify_content": null,
            "justify_items": null,
            "left": null,
            "margin": null,
            "max_height": null,
            "max_width": null,
            "min_height": null,
            "min_width": null,
            "object_fit": null,
            "object_position": null,
            "order": null,
            "overflow": null,
            "overflow_x": null,
            "overflow_y": null,
            "padding": null,
            "right": null,
            "top": null,
            "visibility": null,
            "width": null
          }
        },
        "52c3cad8310b4e898d85bdd2f4385c73": {
          "model_module": "@jupyter-widgets/controls",
          "model_name": "DescriptionStyleModel",
          "model_module_version": "1.5.0",
          "state": {
            "_model_module": "@jupyter-widgets/controls",
            "_model_module_version": "1.5.0",
            "_model_name": "DescriptionStyleModel",
            "_view_count": null,
            "_view_module": "@jupyter-widgets/base",
            "_view_module_version": "1.2.0",
            "_view_name": "StyleView",
            "description_width": ""
          }
        },
        "cbaf879a5e374a15a3883b6c0c7c9a6c": {
          "model_module": "@jupyter-widgets/base",
          "model_name": "LayoutModel",
          "model_module_version": "1.2.0",
          "state": {
            "_model_module": "@jupyter-widgets/base",
            "_model_module_version": "1.2.0",
            "_model_name": "LayoutModel",
            "_view_count": null,
            "_view_module": "@jupyter-widgets/base",
            "_view_module_version": "1.2.0",
            "_view_name": "LayoutView",
            "align_content": null,
            "align_items": null,
            "align_self": null,
            "border": null,
            "bottom": null,
            "display": null,
            "flex": null,
            "flex_flow": null,
            "grid_area": null,
            "grid_auto_columns": null,
            "grid_auto_flow": null,
            "grid_auto_rows": null,
            "grid_column": null,
            "grid_gap": null,
            "grid_row": null,
            "grid_template_areas": null,
            "grid_template_columns": null,
            "grid_template_rows": null,
            "height": null,
            "justify_content": null,
            "justify_items": null,
            "left": null,
            "margin": null,
            "max_height": null,
            "max_width": null,
            "min_height": null,
            "min_width": null,
            "object_fit": null,
            "object_position": null,
            "order": null,
            "overflow": null,
            "overflow_x": null,
            "overflow_y": null,
            "padding": null,
            "right": null,
            "top": null,
            "visibility": null,
            "width": null
          }
        },
        "d430e0704d3e4451bc4cd839bcfb4556": {
          "model_module": "@jupyter-widgets/controls",
          "model_name": "ProgressStyleModel",
          "model_module_version": "1.5.0",
          "state": {
            "_model_module": "@jupyter-widgets/controls",
            "_model_module_version": "1.5.0",
            "_model_name": "ProgressStyleModel",
            "_view_count": null,
            "_view_module": "@jupyter-widgets/base",
            "_view_module_version": "1.2.0",
            "_view_name": "StyleView",
            "bar_color": null,
            "description_width": ""
          }
        },
        "17cb0e2eb3fd47ccb3a1a65e4b9b752f": {
          "model_module": "@jupyter-widgets/base",
          "model_name": "LayoutModel",
          "model_module_version": "1.2.0",
          "state": {
            "_model_module": "@jupyter-widgets/base",
            "_model_module_version": "1.2.0",
            "_model_name": "LayoutModel",
            "_view_count": null,
            "_view_module": "@jupyter-widgets/base",
            "_view_module_version": "1.2.0",
            "_view_name": "LayoutView",
            "align_content": null,
            "align_items": null,
            "align_self": null,
            "border": null,
            "bottom": null,
            "display": null,
            "flex": null,
            "flex_flow": null,
            "grid_area": null,
            "grid_auto_columns": null,
            "grid_auto_flow": null,
            "grid_auto_rows": null,
            "grid_column": null,
            "grid_gap": null,
            "grid_row": null,
            "grid_template_areas": null,
            "grid_template_columns": null,
            "grid_template_rows": null,
            "height": null,
            "justify_content": null,
            "justify_items": null,
            "left": null,
            "margin": null,
            "max_height": null,
            "max_width": null,
            "min_height": null,
            "min_width": null,
            "object_fit": null,
            "object_position": null,
            "order": null,
            "overflow": null,
            "overflow_x": null,
            "overflow_y": null,
            "padding": null,
            "right": null,
            "top": null,
            "visibility": null,
            "width": null
          }
        },
        "1034702b6ebb4a21904319a69dbd487e": {
          "model_module": "@jupyter-widgets/controls",
          "model_name": "DescriptionStyleModel",
          "model_module_version": "1.5.0",
          "state": {
            "_model_module": "@jupyter-widgets/controls",
            "_model_module_version": "1.5.0",
            "_model_name": "DescriptionStyleModel",
            "_view_count": null,
            "_view_module": "@jupyter-widgets/base",
            "_view_module_version": "1.2.0",
            "_view_name": "StyleView",
            "description_width": ""
          }
        },
        "b8353731d14e4dcd8e353d4516b95e60": {
          "model_module": "@jupyter-widgets/controls",
          "model_name": "HBoxModel",
          "model_module_version": "1.5.0",
          "state": {
            "_dom_classes": [],
            "_model_module": "@jupyter-widgets/controls",
            "_model_module_version": "1.5.0",
            "_model_name": "HBoxModel",
            "_view_count": null,
            "_view_module": "@jupyter-widgets/controls",
            "_view_module_version": "1.5.0",
            "_view_name": "HBoxView",
            "box_style": "",
            "children": [
              "IPY_MODEL_02994a4ce3844b828870e600e987ff1a",
              "IPY_MODEL_cca6da829fbe49889a54c951f57420df",
              "IPY_MODEL_d400075c84de425584b98cb6b328770c"
            ],
            "layout": "IPY_MODEL_3325deadcf844075a29f8cfaa3d83f9d"
          }
        },
        "02994a4ce3844b828870e600e987ff1a": {
          "model_module": "@jupyter-widgets/controls",
          "model_name": "HTMLModel",
          "model_module_version": "1.5.0",
          "state": {
            "_dom_classes": [],
            "_model_module": "@jupyter-widgets/controls",
            "_model_module_version": "1.5.0",
            "_model_name": "HTMLModel",
            "_view_count": null,
            "_view_module": "@jupyter-widgets/controls",
            "_view_module_version": "1.5.0",
            "_view_name": "HTMLView",
            "description": "",
            "description_tooltip": null,
            "layout": "IPY_MODEL_a8f63bf6ac5e4cb09c1260ee1ec1eeb2",
            "placeholder": "​",
            "style": "IPY_MODEL_706566f649d34a7c849b9e75c69bdcca",
            "value": "tokenizer.json: 100%"
          }
        },
        "cca6da829fbe49889a54c951f57420df": {
          "model_module": "@jupyter-widgets/controls",
          "model_name": "FloatProgressModel",
          "model_module_version": "1.5.0",
          "state": {
            "_dom_classes": [],
            "_model_module": "@jupyter-widgets/controls",
            "_model_module_version": "1.5.0",
            "_model_name": "FloatProgressModel",
            "_view_count": null,
            "_view_module": "@jupyter-widgets/controls",
            "_view_module_version": "1.5.0",
            "_view_name": "ProgressView",
            "bar_style": "success",
            "description": "",
            "description_tooltip": null,
            "layout": "IPY_MODEL_f74b75806d2a46228b7a701ff476af84",
            "max": 1355256,
            "min": 0,
            "orientation": "horizontal",
            "style": "IPY_MODEL_c0736af157824a39b400135d0f0b6876",
            "value": 1355256
          }
        },
        "d400075c84de425584b98cb6b328770c": {
          "model_module": "@jupyter-widgets/controls",
          "model_name": "HTMLModel",
          "model_module_version": "1.5.0",
          "state": {
            "_dom_classes": [],
            "_model_module": "@jupyter-widgets/controls",
            "_model_module_version": "1.5.0",
            "_model_name": "HTMLModel",
            "_view_count": null,
            "_view_module": "@jupyter-widgets/controls",
            "_view_module_version": "1.5.0",
            "_view_name": "HTMLView",
            "description": "",
            "description_tooltip": null,
            "layout": "IPY_MODEL_d17ca3bc76864229bd883ea591bbf850",
            "placeholder": "​",
            "style": "IPY_MODEL_5989a85a2f084686bdb4bfbb9bac678b",
            "value": " 1.36M/1.36M [00:00&lt;00:00, 8.31MB/s]"
          }
        },
        "3325deadcf844075a29f8cfaa3d83f9d": {
          "model_module": "@jupyter-widgets/base",
          "model_name": "LayoutModel",
          "model_module_version": "1.2.0",
          "state": {
            "_model_module": "@jupyter-widgets/base",
            "_model_module_version": "1.2.0",
            "_model_name": "LayoutModel",
            "_view_count": null,
            "_view_module": "@jupyter-widgets/base",
            "_view_module_version": "1.2.0",
            "_view_name": "LayoutView",
            "align_content": null,
            "align_items": null,
            "align_self": null,
            "border": null,
            "bottom": null,
            "display": null,
            "flex": null,
            "flex_flow": null,
            "grid_area": null,
            "grid_auto_columns": null,
            "grid_auto_flow": null,
            "grid_auto_rows": null,
            "grid_column": null,
            "grid_gap": null,
            "grid_row": null,
            "grid_template_areas": null,
            "grid_template_columns": null,
            "grid_template_rows": null,
            "height": null,
            "justify_content": null,
            "justify_items": null,
            "left": null,
            "margin": null,
            "max_height": null,
            "max_width": null,
            "min_height": null,
            "min_width": null,
            "object_fit": null,
            "object_position": null,
            "order": null,
            "overflow": null,
            "overflow_x": null,
            "overflow_y": null,
            "padding": null,
            "right": null,
            "top": null,
            "visibility": null,
            "width": null
          }
        },
        "a8f63bf6ac5e4cb09c1260ee1ec1eeb2": {
          "model_module": "@jupyter-widgets/base",
          "model_name": "LayoutModel",
          "model_module_version": "1.2.0",
          "state": {
            "_model_module": "@jupyter-widgets/base",
            "_model_module_version": "1.2.0",
            "_model_name": "LayoutModel",
            "_view_count": null,
            "_view_module": "@jupyter-widgets/base",
            "_view_module_version": "1.2.0",
            "_view_name": "LayoutView",
            "align_content": null,
            "align_items": null,
            "align_self": null,
            "border": null,
            "bottom": null,
            "display": null,
            "flex": null,
            "flex_flow": null,
            "grid_area": null,
            "grid_auto_columns": null,
            "grid_auto_flow": null,
            "grid_auto_rows": null,
            "grid_column": null,
            "grid_gap": null,
            "grid_row": null,
            "grid_template_areas": null,
            "grid_template_columns": null,
            "grid_template_rows": null,
            "height": null,
            "justify_content": null,
            "justify_items": null,
            "left": null,
            "margin": null,
            "max_height": null,
            "max_width": null,
            "min_height": null,
            "min_width": null,
            "object_fit": null,
            "object_position": null,
            "order": null,
            "overflow": null,
            "overflow_x": null,
            "overflow_y": null,
            "padding": null,
            "right": null,
            "top": null,
            "visibility": null,
            "width": null
          }
        },
        "706566f649d34a7c849b9e75c69bdcca": {
          "model_module": "@jupyter-widgets/controls",
          "model_name": "DescriptionStyleModel",
          "model_module_version": "1.5.0",
          "state": {
            "_model_module": "@jupyter-widgets/controls",
            "_model_module_version": "1.5.0",
            "_model_name": "DescriptionStyleModel",
            "_view_count": null,
            "_view_module": "@jupyter-widgets/base",
            "_view_module_version": "1.2.0",
            "_view_name": "StyleView",
            "description_width": ""
          }
        },
        "f74b75806d2a46228b7a701ff476af84": {
          "model_module": "@jupyter-widgets/base",
          "model_name": "LayoutModel",
          "model_module_version": "1.2.0",
          "state": {
            "_model_module": "@jupyter-widgets/base",
            "_model_module_version": "1.2.0",
            "_model_name": "LayoutModel",
            "_view_count": null,
            "_view_module": "@jupyter-widgets/base",
            "_view_module_version": "1.2.0",
            "_view_name": "LayoutView",
            "align_content": null,
            "align_items": null,
            "align_self": null,
            "border": null,
            "bottom": null,
            "display": null,
            "flex": null,
            "flex_flow": null,
            "grid_area": null,
            "grid_auto_columns": null,
            "grid_auto_flow": null,
            "grid_auto_rows": null,
            "grid_column": null,
            "grid_gap": null,
            "grid_row": null,
            "grid_template_areas": null,
            "grid_template_columns": null,
            "grid_template_rows": null,
            "height": null,
            "justify_content": null,
            "justify_items": null,
            "left": null,
            "margin": null,
            "max_height": null,
            "max_width": null,
            "min_height": null,
            "min_width": null,
            "object_fit": null,
            "object_position": null,
            "order": null,
            "overflow": null,
            "overflow_x": null,
            "overflow_y": null,
            "padding": null,
            "right": null,
            "top": null,
            "visibility": null,
            "width": null
          }
        },
        "c0736af157824a39b400135d0f0b6876": {
          "model_module": "@jupyter-widgets/controls",
          "model_name": "ProgressStyleModel",
          "model_module_version": "1.5.0",
          "state": {
            "_model_module": "@jupyter-widgets/controls",
            "_model_module_version": "1.5.0",
            "_model_name": "ProgressStyleModel",
            "_view_count": null,
            "_view_module": "@jupyter-widgets/base",
            "_view_module_version": "1.2.0",
            "_view_name": "StyleView",
            "bar_color": null,
            "description_width": ""
          }
        },
        "d17ca3bc76864229bd883ea591bbf850": {
          "model_module": "@jupyter-widgets/base",
          "model_name": "LayoutModel",
          "model_module_version": "1.2.0",
          "state": {
            "_model_module": "@jupyter-widgets/base",
            "_model_module_version": "1.2.0",
            "_model_name": "LayoutModel",
            "_view_count": null,
            "_view_module": "@jupyter-widgets/base",
            "_view_module_version": "1.2.0",
            "_view_name": "LayoutView",
            "align_content": null,
            "align_items": null,
            "align_self": null,
            "border": null,
            "bottom": null,
            "display": null,
            "flex": null,
            "flex_flow": null,
            "grid_area": null,
            "grid_auto_columns": null,
            "grid_auto_flow": null,
            "grid_auto_rows": null,
            "grid_column": null,
            "grid_gap": null,
            "grid_row": null,
            "grid_template_areas": null,
            "grid_template_columns": null,
            "grid_template_rows": null,
            "height": null,
            "justify_content": null,
            "justify_items": null,
            "left": null,
            "margin": null,
            "max_height": null,
            "max_width": null,
            "min_height": null,
            "min_width": null,
            "object_fit": null,
            "object_position": null,
            "order": null,
            "overflow": null,
            "overflow_x": null,
            "overflow_y": null,
            "padding": null,
            "right": null,
            "top": null,
            "visibility": null,
            "width": null
          }
        },
        "5989a85a2f084686bdb4bfbb9bac678b": {
          "model_module": "@jupyter-widgets/controls",
          "model_name": "DescriptionStyleModel",
          "model_module_version": "1.5.0",
          "state": {
            "_model_module": "@jupyter-widgets/controls",
            "_model_module_version": "1.5.0",
            "_model_name": "DescriptionStyleModel",
            "_view_count": null,
            "_view_module": "@jupyter-widgets/base",
            "_view_module_version": "1.2.0",
            "_view_name": "StyleView",
            "description_width": ""
          }
        },
        "f1baa437b0bb4be29fed2915a9503794": {
          "model_module": "@jupyter-widgets/controls",
          "model_name": "HBoxModel",
          "model_module_version": "1.5.0",
          "state": {
            "_dom_classes": [],
            "_model_module": "@jupyter-widgets/controls",
            "_model_module_version": "1.5.0",
            "_model_name": "HBoxModel",
            "_view_count": null,
            "_view_module": "@jupyter-widgets/controls",
            "_view_module_version": "1.5.0",
            "_view_name": "HBoxView",
            "box_style": "",
            "children": [
              "IPY_MODEL_5846080bd0e2467d8a1f013a32673e9a",
              "IPY_MODEL_5bb6399a72944905bb967f24cc02754c",
              "IPY_MODEL_240bea4008934d22b4e28817fe130a56"
            ],
            "layout": "IPY_MODEL_91846c6021b1410eb5adc6a69645856c"
          }
        },
        "5846080bd0e2467d8a1f013a32673e9a": {
          "model_module": "@jupyter-widgets/controls",
          "model_name": "HTMLModel",
          "model_module_version": "1.5.0",
          "state": {
            "_dom_classes": [],
            "_model_module": "@jupyter-widgets/controls",
            "_model_module_version": "1.5.0",
            "_model_name": "HTMLModel",
            "_view_count": null,
            "_view_module": "@jupyter-widgets/controls",
            "_view_module_version": "1.5.0",
            "_view_name": "HTMLView",
            "description": "",
            "description_tooltip": null,
            "layout": "IPY_MODEL_25e652d8a2924ee6becf7d2284a74fbd",
            "placeholder": "​",
            "style": "IPY_MODEL_8908000cdefb4900bc83b3171189d034",
            "value": "model.safetensors: 100%"
          }
        },
        "5bb6399a72944905bb967f24cc02754c": {
          "model_module": "@jupyter-widgets/controls",
          "model_name": "FloatProgressModel",
          "model_module_version": "1.5.0",
          "state": {
            "_dom_classes": [],
            "_model_module": "@jupyter-widgets/controls",
            "_model_module_version": "1.5.0",
            "_model_name": "FloatProgressModel",
            "_view_count": null,
            "_view_module": "@jupyter-widgets/controls",
            "_view_module_version": "1.5.0",
            "_view_name": "ProgressView",
            "bar_style": "success",
            "description": "",
            "description_tooltip": null,
            "layout": "IPY_MODEL_64ae093dd0f74d45a5c781a2ddeb8925",
            "max": 3247159078,
            "min": 0,
            "orientation": "horizontal",
            "style": "IPY_MODEL_b4782ae541814be2a1aacd6cdf6b387a",
            "value": 3247159078
          }
        },
        "240bea4008934d22b4e28817fe130a56": {
          "model_module": "@jupyter-widgets/controls",
          "model_name": "HTMLModel",
          "model_module_version": "1.5.0",
          "state": {
            "_dom_classes": [],
            "_model_module": "@jupyter-widgets/controls",
            "_model_module_version": "1.5.0",
            "_model_name": "HTMLModel",
            "_view_count": null,
            "_view_module": "@jupyter-widgets/controls",
            "_view_module_version": "1.5.0",
            "_view_name": "HTMLView",
            "description": "",
            "description_tooltip": null,
            "layout": "IPY_MODEL_1baf5d43b9c344feabf555688b6a9f82",
            "placeholder": "​",
            "style": "IPY_MODEL_816dfae59c2e4f9c9d0b3fdbc6a19844",
            "value": " 3.25G/3.25G [00:10&lt;00:00, 318MB/s]"
          }
        },
        "91846c6021b1410eb5adc6a69645856c": {
          "model_module": "@jupyter-widgets/base",
          "model_name": "LayoutModel",
          "model_module_version": "1.2.0",
          "state": {
            "_model_module": "@jupyter-widgets/base",
            "_model_module_version": "1.2.0",
            "_model_name": "LayoutModel",
            "_view_count": null,
            "_view_module": "@jupyter-widgets/base",
            "_view_module_version": "1.2.0",
            "_view_name": "LayoutView",
            "align_content": null,
            "align_items": null,
            "align_self": null,
            "border": null,
            "bottom": null,
            "display": null,
            "flex": null,
            "flex_flow": null,
            "grid_area": null,
            "grid_auto_columns": null,
            "grid_auto_flow": null,
            "grid_auto_rows": null,
            "grid_column": null,
            "grid_gap": null,
            "grid_row": null,
            "grid_template_areas": null,
            "grid_template_columns": null,
            "grid_template_rows": null,
            "height": null,
            "justify_content": null,
            "justify_items": null,
            "left": null,
            "margin": null,
            "max_height": null,
            "max_width": null,
            "min_height": null,
            "min_width": null,
            "object_fit": null,
            "object_position": null,
            "order": null,
            "overflow": null,
            "overflow_x": null,
            "overflow_y": null,
            "padding": null,
            "right": null,
            "top": null,
            "visibility": null,
            "width": null
          }
        },
        "25e652d8a2924ee6becf7d2284a74fbd": {
          "model_module": "@jupyter-widgets/base",
          "model_name": "LayoutModel",
          "model_module_version": "1.2.0",
          "state": {
            "_model_module": "@jupyter-widgets/base",
            "_model_module_version": "1.2.0",
            "_model_name": "LayoutModel",
            "_view_count": null,
            "_view_module": "@jupyter-widgets/base",
            "_view_module_version": "1.2.0",
            "_view_name": "LayoutView",
            "align_content": null,
            "align_items": null,
            "align_self": null,
            "border": null,
            "bottom": null,
            "display": null,
            "flex": null,
            "flex_flow": null,
            "grid_area": null,
            "grid_auto_columns": null,
            "grid_auto_flow": null,
            "grid_auto_rows": null,
            "grid_column": null,
            "grid_gap": null,
            "grid_row": null,
            "grid_template_areas": null,
            "grid_template_columns": null,
            "grid_template_rows": null,
            "height": null,
            "justify_content": null,
            "justify_items": null,
            "left": null,
            "margin": null,
            "max_height": null,
            "max_width": null,
            "min_height": null,
            "min_width": null,
            "object_fit": null,
            "object_position": null,
            "order": null,
            "overflow": null,
            "overflow_x": null,
            "overflow_y": null,
            "padding": null,
            "right": null,
            "top": null,
            "visibility": null,
            "width": null
          }
        },
        "8908000cdefb4900bc83b3171189d034": {
          "model_module": "@jupyter-widgets/controls",
          "model_name": "DescriptionStyleModel",
          "model_module_version": "1.5.0",
          "state": {
            "_model_module": "@jupyter-widgets/controls",
            "_model_module_version": "1.5.0",
            "_model_name": "DescriptionStyleModel",
            "_view_count": null,
            "_view_module": "@jupyter-widgets/base",
            "_view_module_version": "1.2.0",
            "_view_name": "StyleView",
            "description_width": ""
          }
        },
        "64ae093dd0f74d45a5c781a2ddeb8925": {
          "model_module": "@jupyter-widgets/base",
          "model_name": "LayoutModel",
          "model_module_version": "1.2.0",
          "state": {
            "_model_module": "@jupyter-widgets/base",
            "_model_module_version": "1.2.0",
            "_model_name": "LayoutModel",
            "_view_count": null,
            "_view_module": "@jupyter-widgets/base",
            "_view_module_version": "1.2.0",
            "_view_name": "LayoutView",
            "align_content": null,
            "align_items": null,
            "align_self": null,
            "border": null,
            "bottom": null,
            "display": null,
            "flex": null,
            "flex_flow": null,
            "grid_area": null,
            "grid_auto_columns": null,
            "grid_auto_flow": null,
            "grid_auto_rows": null,
            "grid_column": null,
            "grid_gap": null,
            "grid_row": null,
            "grid_template_areas": null,
            "grid_template_columns": null,
            "grid_template_rows": null,
            "height": null,
            "justify_content": null,
            "justify_items": null,
            "left": null,
            "margin": null,
            "max_height": null,
            "max_width": null,
            "min_height": null,
            "min_width": null,
            "object_fit": null,
            "object_position": null,
            "order": null,
            "overflow": null,
            "overflow_x": null,
            "overflow_y": null,
            "padding": null,
            "right": null,
            "top": null,
            "visibility": null,
            "width": null
          }
        },
        "b4782ae541814be2a1aacd6cdf6b387a": {
          "model_module": "@jupyter-widgets/controls",
          "model_name": "ProgressStyleModel",
          "model_module_version": "1.5.0",
          "state": {
            "_model_module": "@jupyter-widgets/controls",
            "_model_module_version": "1.5.0",
            "_model_name": "ProgressStyleModel",
            "_view_count": null,
            "_view_module": "@jupyter-widgets/base",
            "_view_module_version": "1.2.0",
            "_view_name": "StyleView",
            "bar_color": null,
            "description_width": ""
          }
        },
        "1baf5d43b9c344feabf555688b6a9f82": {
          "model_module": "@jupyter-widgets/base",
          "model_name": "LayoutModel",
          "model_module_version": "1.2.0",
          "state": {
            "_model_module": "@jupyter-widgets/base",
            "_model_module_version": "1.2.0",
            "_model_name": "LayoutModel",
            "_view_count": null,
            "_view_module": "@jupyter-widgets/base",
            "_view_module_version": "1.2.0",
            "_view_name": "LayoutView",
            "align_content": null,
            "align_items": null,
            "align_self": null,
            "border": null,
            "bottom": null,
            "display": null,
            "flex": null,
            "flex_flow": null,
            "grid_area": null,
            "grid_auto_columns": null,
            "grid_auto_flow": null,
            "grid_auto_rows": null,
            "grid_column": null,
            "grid_gap": null,
            "grid_row": null,
            "grid_template_areas": null,
            "grid_template_columns": null,
            "grid_template_rows": null,
            "height": null,
            "justify_content": null,
            "justify_items": null,
            "left": null,
            "margin": null,
            "max_height": null,
            "max_width": null,
            "min_height": null,
            "min_width": null,
            "object_fit": null,
            "object_position": null,
            "order": null,
            "overflow": null,
            "overflow_x": null,
            "overflow_y": null,
            "padding": null,
            "right": null,
            "top": null,
            "visibility": null,
            "width": null
          }
        },
        "816dfae59c2e4f9c9d0b3fdbc6a19844": {
          "model_module": "@jupyter-widgets/controls",
          "model_name": "DescriptionStyleModel",
          "model_module_version": "1.5.0",
          "state": {
            "_model_module": "@jupyter-widgets/controls",
            "_model_module_version": "1.5.0",
            "_model_name": "DescriptionStyleModel",
            "_view_count": null,
            "_view_module": "@jupyter-widgets/base",
            "_view_module_version": "1.2.0",
            "_view_name": "StyleView",
            "description_width": ""
          }
        },
        "4da5ada9e25544c7b4bff649b6952a93": {
          "model_module": "@jupyter-widgets/controls",
          "model_name": "HBoxModel",
          "model_module_version": "1.5.0",
          "state": {
            "_dom_classes": [],
            "_model_module": "@jupyter-widgets/controls",
            "_model_module_version": "1.5.0",
            "_model_name": "HBoxModel",
            "_view_count": null,
            "_view_module": "@jupyter-widgets/controls",
            "_view_module_version": "1.5.0",
            "_view_name": "HBoxView",
            "box_style": "",
            "children": [
              "IPY_MODEL_5bd918aa3560454f8b50f3ed6b376715",
              "IPY_MODEL_89cc12b5e5ec459486e2940737be8f83",
              "IPY_MODEL_a5638f9622ff45e4b284bc7e6011d924"
            ],
            "layout": "IPY_MODEL_fb48f2d2a77848da947a1644a5f41a15"
          }
        },
        "5bd918aa3560454f8b50f3ed6b376715": {
          "model_module": "@jupyter-widgets/controls",
          "model_name": "HTMLModel",
          "model_module_version": "1.5.0",
          "state": {
            "_dom_classes": [],
            "_model_module": "@jupyter-widgets/controls",
            "_model_module_version": "1.5.0",
            "_model_name": "HTMLModel",
            "_view_count": null,
            "_view_module": "@jupyter-widgets/controls",
            "_view_module_version": "1.5.0",
            "_view_name": "HTMLView",
            "description": "",
            "description_tooltip": null,
            "layout": "IPY_MODEL_35111be82e61414eaf82a1c34ed45330",
            "placeholder": "​",
            "style": "IPY_MODEL_9a084c32710847fd9aa048cd3c8b7f4f",
            "value": "generation_config.json: 100%"
          }
        },
        "89cc12b5e5ec459486e2940737be8f83": {
          "model_module": "@jupyter-widgets/controls",
          "model_name": "FloatProgressModel",
          "model_module_version": "1.5.0",
          "state": {
            "_dom_classes": [],
            "_model_module": "@jupyter-widgets/controls",
            "_model_module_version": "1.5.0",
            "_model_name": "FloatProgressModel",
            "_view_count": null,
            "_view_module": "@jupyter-widgets/controls",
            "_view_module_version": "1.5.0",
            "_view_name": "ProgressView",
            "bar_style": "success",
            "description": "",
            "description_tooltip": null,
            "layout": "IPY_MODEL_2be7c6de4469402b9a4573e81150bf92",
            "max": 124,
            "min": 0,
            "orientation": "horizontal",
            "style": "IPY_MODEL_fc38c96f0f1e477e9070176a63a47c4a",
            "value": 124
          }
        },
        "a5638f9622ff45e4b284bc7e6011d924": {
          "model_module": "@jupyter-widgets/controls",
          "model_name": "HTMLModel",
          "model_module_version": "1.5.0",
          "state": {
            "_dom_classes": [],
            "_model_module": "@jupyter-widgets/controls",
            "_model_module_version": "1.5.0",
            "_model_name": "HTMLModel",
            "_view_count": null,
            "_view_module": "@jupyter-widgets/controls",
            "_view_module_version": "1.5.0",
            "_view_name": "HTMLView",
            "description": "",
            "description_tooltip": null,
            "layout": "IPY_MODEL_39ce14d797a34ca9bb49662d6728ba6e",
            "placeholder": "​",
            "style": "IPY_MODEL_f7fb9de2d83c4fae9dd62fdf3d83e6eb",
            "value": " 124/124 [00:00&lt;00:00, 11.1kB/s]"
          }
        },
        "fb48f2d2a77848da947a1644a5f41a15": {
          "model_module": "@jupyter-widgets/base",
          "model_name": "LayoutModel",
          "model_module_version": "1.2.0",
          "state": {
            "_model_module": "@jupyter-widgets/base",
            "_model_module_version": "1.2.0",
            "_model_name": "LayoutModel",
            "_view_count": null,
            "_view_module": "@jupyter-widgets/base",
            "_view_module_version": "1.2.0",
            "_view_name": "LayoutView",
            "align_content": null,
            "align_items": null,
            "align_self": null,
            "border": null,
            "bottom": null,
            "display": null,
            "flex": null,
            "flex_flow": null,
            "grid_area": null,
            "grid_auto_columns": null,
            "grid_auto_flow": null,
            "grid_auto_rows": null,
            "grid_column": null,
            "grid_gap": null,
            "grid_row": null,
            "grid_template_areas": null,
            "grid_template_columns": null,
            "grid_template_rows": null,
            "height": null,
            "justify_content": null,
            "justify_items": null,
            "left": null,
            "margin": null,
            "max_height": null,
            "max_width": null,
            "min_height": null,
            "min_width": null,
            "object_fit": null,
            "object_position": null,
            "order": null,
            "overflow": null,
            "overflow_x": null,
            "overflow_y": null,
            "padding": null,
            "right": null,
            "top": null,
            "visibility": null,
            "width": null
          }
        },
        "35111be82e61414eaf82a1c34ed45330": {
          "model_module": "@jupyter-widgets/base",
          "model_name": "LayoutModel",
          "model_module_version": "1.2.0",
          "state": {
            "_model_module": "@jupyter-widgets/base",
            "_model_module_version": "1.2.0",
            "_model_name": "LayoutModel",
            "_view_count": null,
            "_view_module": "@jupyter-widgets/base",
            "_view_module_version": "1.2.0",
            "_view_name": "LayoutView",
            "align_content": null,
            "align_items": null,
            "align_self": null,
            "border": null,
            "bottom": null,
            "display": null,
            "flex": null,
            "flex_flow": null,
            "grid_area": null,
            "grid_auto_columns": null,
            "grid_auto_flow": null,
            "grid_auto_rows": null,
            "grid_column": null,
            "grid_gap": null,
            "grid_row": null,
            "grid_template_areas": null,
            "grid_template_columns": null,
            "grid_template_rows": null,
            "height": null,
            "justify_content": null,
            "justify_items": null,
            "left": null,
            "margin": null,
            "max_height": null,
            "max_width": null,
            "min_height": null,
            "min_width": null,
            "object_fit": null,
            "object_position": null,
            "order": null,
            "overflow": null,
            "overflow_x": null,
            "overflow_y": null,
            "padding": null,
            "right": null,
            "top": null,
            "visibility": null,
            "width": null
          }
        },
        "9a084c32710847fd9aa048cd3c8b7f4f": {
          "model_module": "@jupyter-widgets/controls",
          "model_name": "DescriptionStyleModel",
          "model_module_version": "1.5.0",
          "state": {
            "_model_module": "@jupyter-widgets/controls",
            "_model_module_version": "1.5.0",
            "_model_name": "DescriptionStyleModel",
            "_view_count": null,
            "_view_module": "@jupyter-widgets/base",
            "_view_module_version": "1.2.0",
            "_view_name": "StyleView",
            "description_width": ""
          }
        },
        "2be7c6de4469402b9a4573e81150bf92": {
          "model_module": "@jupyter-widgets/base",
          "model_name": "LayoutModel",
          "model_module_version": "1.2.0",
          "state": {
            "_model_module": "@jupyter-widgets/base",
            "_model_module_version": "1.2.0",
            "_model_name": "LayoutModel",
            "_view_count": null,
            "_view_module": "@jupyter-widgets/base",
            "_view_module_version": "1.2.0",
            "_view_name": "LayoutView",
            "align_content": null,
            "align_items": null,
            "align_self": null,
            "border": null,
            "bottom": null,
            "display": null,
            "flex": null,
            "flex_flow": null,
            "grid_area": null,
            "grid_auto_columns": null,
            "grid_auto_flow": null,
            "grid_auto_rows": null,
            "grid_column": null,
            "grid_gap": null,
            "grid_row": null,
            "grid_template_areas": null,
            "grid_template_columns": null,
            "grid_template_rows": null,
            "height": null,
            "justify_content": null,
            "justify_items": null,
            "left": null,
            "margin": null,
            "max_height": null,
            "max_width": null,
            "min_height": null,
            "min_width": null,
            "object_fit": null,
            "object_position": null,
            "order": null,
            "overflow": null,
            "overflow_x": null,
            "overflow_y": null,
            "padding": null,
            "right": null,
            "top": null,
            "visibility": null,
            "width": null
          }
        },
        "fc38c96f0f1e477e9070176a63a47c4a": {
          "model_module": "@jupyter-widgets/controls",
          "model_name": "ProgressStyleModel",
          "model_module_version": "1.5.0",
          "state": {
            "_model_module": "@jupyter-widgets/controls",
            "_model_module_version": "1.5.0",
            "_model_name": "ProgressStyleModel",
            "_view_count": null,
            "_view_module": "@jupyter-widgets/base",
            "_view_module_version": "1.2.0",
            "_view_name": "StyleView",
            "bar_color": null,
            "description_width": ""
          }
        },
        "39ce14d797a34ca9bb49662d6728ba6e": {
          "model_module": "@jupyter-widgets/base",
          "model_name": "LayoutModel",
          "model_module_version": "1.2.0",
          "state": {
            "_model_module": "@jupyter-widgets/base",
            "_model_module_version": "1.2.0",
            "_model_name": "LayoutModel",
            "_view_count": null,
            "_view_module": "@jupyter-widgets/base",
            "_view_module_version": "1.2.0",
            "_view_name": "LayoutView",
            "align_content": null,
            "align_items": null,
            "align_self": null,
            "border": null,
            "bottom": null,
            "display": null,
            "flex": null,
            "flex_flow": null,
            "grid_area": null,
            "grid_auto_columns": null,
            "grid_auto_flow": null,
            "grid_auto_rows": null,
            "grid_column": null,
            "grid_gap": null,
            "grid_row": null,
            "grid_template_areas": null,
            "grid_template_columns": null,
            "grid_template_rows": null,
            "height": null,
            "justify_content": null,
            "justify_items": null,
            "left": null,
            "margin": null,
            "max_height": null,
            "max_width": null,
            "min_height": null,
            "min_width": null,
            "object_fit": null,
            "object_position": null,
            "order": null,
            "overflow": null,
            "overflow_x": null,
            "overflow_y": null,
            "padding": null,
            "right": null,
            "top": null,
            "visibility": null,
            "width": null
          }
        },
        "f7fb9de2d83c4fae9dd62fdf3d83e6eb": {
          "model_module": "@jupyter-widgets/controls",
          "model_name": "DescriptionStyleModel",
          "model_module_version": "1.5.0",
          "state": {
            "_model_module": "@jupyter-widgets/controls",
            "_model_module_version": "1.5.0",
            "_model_name": "DescriptionStyleModel",
            "_view_count": null,
            "_view_module": "@jupyter-widgets/base",
            "_view_module_version": "1.2.0",
            "_view_name": "StyleView",
            "description_width": ""
          }
        }
      }
    }
  },
  "cells": [
    {
      "cell_type": "code",
      "execution_count": null,
      "metadata": {
        "colab": {
          "base_uri": "https://localhost:8080/"
        },
        "id": "seCo3TXpnHKN",
        "outputId": "3745160d-0415-4491-a2b7-4d0a94fb88a1"
      },
      "outputs": [
        {
          "output_type": "stream",
          "name": "stdout",
          "text": [
            "Requirement already satisfied: transformers in /usr/local/lib/python3.10/dist-packages (4.38.2)\n",
            "Requirement already satisfied: filelock in /usr/local/lib/python3.10/dist-packages (from transformers) (3.13.3)\n",
            "Requirement already satisfied: huggingface-hub<1.0,>=0.19.3 in /usr/local/lib/python3.10/dist-packages (from transformers) (0.20.3)\n",
            "Requirement already satisfied: numpy>=1.17 in /usr/local/lib/python3.10/dist-packages (from transformers) (1.25.2)\n",
            "Requirement already satisfied: packaging>=20.0 in /usr/local/lib/python3.10/dist-packages (from transformers) (24.0)\n",
            "Requirement already satisfied: pyyaml>=5.1 in /usr/local/lib/python3.10/dist-packages (from transformers) (6.0.1)\n",
            "Requirement already satisfied: regex!=2019.12.17 in /usr/local/lib/python3.10/dist-packages (from transformers) (2023.12.25)\n",
            "Requirement already satisfied: requests in /usr/local/lib/python3.10/dist-packages (from transformers) (2.31.0)\n",
            "Requirement already satisfied: tokenizers<0.19,>=0.14 in /usr/local/lib/python3.10/dist-packages (from transformers) (0.15.2)\n",
            "Requirement already satisfied: safetensors>=0.4.1 in /usr/local/lib/python3.10/dist-packages (from transformers) (0.4.2)\n",
            "Requirement already satisfied: tqdm>=4.27 in /usr/local/lib/python3.10/dist-packages (from transformers) (4.66.2)\n",
            "Requirement already satisfied: fsspec>=2023.5.0 in /usr/local/lib/python3.10/dist-packages (from huggingface-hub<1.0,>=0.19.3->transformers) (2023.6.0)\n",
            "Requirement already satisfied: typing-extensions>=3.7.4.3 in /usr/local/lib/python3.10/dist-packages (from huggingface-hub<1.0,>=0.19.3->transformers) (4.10.0)\n",
            "Requirement already satisfied: charset-normalizer<4,>=2 in /usr/local/lib/python3.10/dist-packages (from requests->transformers) (3.3.2)\n",
            "Requirement already satisfied: idna<4,>=2.5 in /usr/local/lib/python3.10/dist-packages (from requests->transformers) (3.6)\n",
            "Requirement already satisfied: urllib3<3,>=1.21.1 in /usr/local/lib/python3.10/dist-packages (from requests->transformers) (2.0.7)\n",
            "Requirement already satisfied: certifi>=2017.4.17 in /usr/local/lib/python3.10/dist-packages (from requests->transformers) (2024.2.2)\n"
          ]
        }
      ],
      "source": [
        "!pip install transformers"
      ]
    },
    {
      "cell_type": "markdown",
      "source": [
        "Bu kod, PyTorch ve Hugging Face Transformers kütüphanelerini kullanarak bir dil modeli yüklemeye ve kullanmaya yöneliktir. İşlevlerin kısa bir açıklaması şu şekildedir:\n",
        "\n",
        "1. `torch`: PyTorch kütüphanesinin Python API'sini içerir. PyTorch, derin öğrenme modelleri oluşturmak ve eğitmek için yaygın olarak kullanılan bir açık kaynaklı derin öğrenme kütüphanesidir.\n",
        "\n",
        "2. `AutoTokenizer`: Bu sınıf, otomatik olarak uygun bir belirteçleyici (tokenizer) seçmenize olanak tanır. Yani, belirli bir model için belirteçleme işlevselliğini yüklemek için kullanılır. Özellikle, metni belirteçlere dönüştürmek için kullanılır.\n",
        "\n",
        "3. `AutoModelForCausalLM`: Bu sınıf, otomatik olarak uygun bir dil modeli mimarisi seçmenize olanak tanır. Causal Language Modeling (Nedensel Dil Modelleme) için belirli bir modeli yüklemek için kullanılır. Bu tür bir model, verilen bir metin dizisinden sonraki kelimeyi tahmin etmek için kullanılabilir.\n",
        "\n",
        "Bu kod parçası, belirli bir dil modeli mimarisi ve onun için uygun bir belirteçleyici kullanarak bir dil modelini yükler. Sonrasında, bu dil modeli metin dizilerini işlemek, tahmin etmek veya başka görevler için kullanılabilir."
      ],
      "metadata": {
        "id": "c7Gbg1xRto5b"
      }
    },
    {
      "cell_type": "code",
      "source": [
        "import torch\n",
        "from transformers import AutoTokenizer , AutoModelForCausalLM\n"
      ],
      "metadata": {
        "id": "c303YYoRnT7h"
      },
      "execution_count": null,
      "outputs": []
    },
    {
      "cell_type": "markdown",
      "source": [
        "Bu kod, cihazın (device) CUDA uyumlu bir GPU olup olmadığını kontrol eder. Eğer CUDA uyumlu bir GPU kullanılabilir durumdaysa, cihaz CUDA'ya atanır, yani işlemler GPU üzerinde gerçekleştirilir. Aksi takdirde, cihaz CPU'ya atanır, yani işlemler CPU üzerinde gerçekleştirilir.\n",
        "\n",
        "`torch.cuda.is_available()` fonksiyonu, CUDA uyumlu bir GPU'nun mevcut olup olmadığını kontrol eder. Eğer CUDA uyumlu bir GPU mevcutsa, bu fonksiyon `True` değerini döndürür, aksi halde `False` değerini döndürür.\n",
        "\n",
        "Bu şekilde, cihaz değişkeni, PyTorch'un kullanılabilirlik durumuna göre dinamik olarak atanır ve sonuç olarak kullanılacak cihaz belirlenir. Bu yöntem, kodun CUDA uyumlu GPU'lar üzerinde çalıştırılabilmesini sağlar, böylece hesaplama performansı artırılabilir.\n",
        "\n",
        "Eğer CUDA uyumlu bir GPU mevcut değilse, bu durumda `device` değişkeni `\"cpu\"` değerini alacaktır ve işlemler CPU üzerinde gerçekleştirilecektir."
      ],
      "metadata": {
        "id": "uTMkfVf4twzB"
      }
    },
    {
      "cell_type": "code",
      "source": [
        "device = \"cuda\" if torch.cuda.is_available() else \"cpu\"\n",
        "device"
      ],
      "metadata": {
        "colab": {
          "base_uri": "https://localhost:8080/",
          "height": 36
        },
        "id": "_WJjAsyrntak",
        "outputId": "3dc9ec4e-ca50-40b5-ee4c-04716bcd972b"
      },
      "execution_count": null,
      "outputs": [
        {
          "output_type": "execute_result",
          "data": {
            "text/plain": [
              "'cuda'"
            ],
            "application/vnd.google.colaboratory.intrinsic+json": {
              "type": "string"
            }
          },
          "metadata": {},
          "execution_count": 3
        }
      ]
    },
    {
      "cell_type": "markdown",
      "source": [
        "Bu kod parçası, \"gpt2-large\" isimli bir dil modeli için belirteçleyici (tokenizer) oluşturur. Öncelikle, `AutoTokenizer.from_pretrained()` fonksiyonu kullanılarak, \"gpt2-large\" modeli için önceden eğitilmiş bir belirteçleyici yüklenir. Bu fonksiyon, Hugging Face Transformers kütüphanesinin bir parçasıdır ve otomatik olarak modelin belirteçleyicisini seçer ve yükler.\n",
        "\n",
        "`AutoTokenizer.from_pretrained()` fonksiyonu, belirli bir modelin adını alır ve bu modele ait önceden eğitilmiş bir belirteçleyiciyi yükler. Bu belirteçleyici, metin girişini modelin anlayabileceği şekle dönüştürmek için kullanılır. Bu dönüşüm, tokenizasyon adı verilen bir işlemi içerir.\n",
        "\n",
        "Örneğin, \"gpt2-large\" modeli, OpenAI tarafından eğitilmiş büyük bir dil modelidir. Bu modelin önceden eğitilmiş belirteçleyici, metni belirteçlere dönüştürmek için kullanılır ve ardından bu belirteçler dil modeline giriş olarak verilir. Bu sayede dil modeli, verilen metni anlamak ve devam ettirmek için kullanılabilir."
      ],
      "metadata": {
        "id": "jXg04qBIt4wV"
      }
    },
    {
      "cell_type": "code",
      "source": [
        "model_name = \"gpt2-large\"\n",
        "tokenizer = AutoTokenizer.from_pretrained(model_name)"
      ],
      "metadata": {
        "colab": {
          "base_uri": "https://localhost:8080/",
          "height": 314,
          "referenced_widgets": [
            "66cb50e69be54052acbc2114091e2372",
            "eb3723de1ba94153889e211e6aee5106",
            "f029f704ca6b440a8e458ea535ac8ff1",
            "fae601fcf1134dc9bf6bf05363e0c1a1",
            "9883e8838b2945e780413180464f7841",
            "0fc0a49cc79f4cc78cb5fec9b8059059",
            "9063abbf6a444334a4fc9901551d7db0",
            "fae8fc78a00a4d6b943e51589d429692",
            "e064203a8a504057af4aaddad7c17f66",
            "7413c56596d741e08200f219086bd16f",
            "b69118ef60bb4f85ae43ffd7a32cc023",
            "94f23a4da3a04e23ae2265b6f686e021",
            "fcc656ccbbff4cab94f34779330c9aa8",
            "cf23e623bb264566ba57171aa8dc2e54",
            "bce0bd7f66ce4b35b0d71a744b3c298a",
            "8a2e2ded42044163afa8302bd59b8620",
            "a896c10c9da447248cbdca5dafc240c4",
            "e1d5332bccbc4657a119a82d9ee169b8",
            "88c1ae70654d4c4b9b0693ef5679b423",
            "fae5b614844148d881e5b0d13f73eb66",
            "c01f07f17fb846d2ba45bcd0352998b9",
            "e439c5273ea94ac78c192e27df713507",
            "edb8a684caff496988f1de1a89d5f99d",
            "89c5b18a465f47deaa20cdd9234da50c",
            "3a22d1ab135a4bceb0b59a0c0c89d720",
            "5bb0e0125b154fcb92ec837d106cfacf",
            "d48c33545063493d96ea866b22607c0c",
            "65e221004a554228a1aca925c4a1bd02",
            "a92a85c5079046b1a0670f5c0b078aea",
            "6bf1170215764d84bf34181bca73cdb3",
            "4c6abff889f84543a2f9f77f659a803c",
            "5004150eb3b04f99a5aecdbff90397d7",
            "d82a6a53cd09461dbb16733b4afe60e2",
            "4dc85e476dfc4262956844755dc48e0f",
            "18a9ed58f7f54d718f79586eede93618",
            "2e75ec17ea4343dcb8a87f70142ebac5",
            "5f3d6cd41c6d465694a241e35a2c00ed",
            "39effede897d439288c960b908386a75",
            "14ef137698bb4ba1ac7c241d5a7bbcfe",
            "52c3cad8310b4e898d85bdd2f4385c73",
            "cbaf879a5e374a15a3883b6c0c7c9a6c",
            "d430e0704d3e4451bc4cd839bcfb4556",
            "17cb0e2eb3fd47ccb3a1a65e4b9b752f",
            "1034702b6ebb4a21904319a69dbd487e",
            "b8353731d14e4dcd8e353d4516b95e60",
            "02994a4ce3844b828870e600e987ff1a",
            "cca6da829fbe49889a54c951f57420df",
            "d400075c84de425584b98cb6b328770c",
            "3325deadcf844075a29f8cfaa3d83f9d",
            "a8f63bf6ac5e4cb09c1260ee1ec1eeb2",
            "706566f649d34a7c849b9e75c69bdcca",
            "f74b75806d2a46228b7a701ff476af84",
            "c0736af157824a39b400135d0f0b6876",
            "d17ca3bc76864229bd883ea591bbf850",
            "5989a85a2f084686bdb4bfbb9bac678b"
          ]
        },
        "id": "iDskOMCZoFPA",
        "outputId": "5a2ec94a-5869-4b57-c334-a28d3fedf92d"
      },
      "execution_count": null,
      "outputs": [
        {
          "output_type": "stream",
          "name": "stderr",
          "text": [
            "/usr/local/lib/python3.10/dist-packages/huggingface_hub/utils/_token.py:88: UserWarning: \n",
            "The secret `HF_TOKEN` does not exist in your Colab secrets.\n",
            "To authenticate with the Hugging Face Hub, create a token in your settings tab (https://huggingface.co/settings/tokens), set it as secret in your Google Colab and restart your session.\n",
            "You will be able to reuse this secret in all of your notebooks.\n",
            "Please note that authentication is recommended but still optional to access public models or datasets.\n",
            "  warnings.warn(\n"
          ]
        },
        {
          "output_type": "display_data",
          "data": {
            "text/plain": [
              "tokenizer_config.json:   0%|          | 0.00/26.0 [00:00<?, ?B/s]"
            ],
            "application/vnd.jupyter.widget-view+json": {
              "version_major": 2,
              "version_minor": 0,
              "model_id": "66cb50e69be54052acbc2114091e2372"
            }
          },
          "metadata": {}
        },
        {
          "output_type": "display_data",
          "data": {
            "text/plain": [
              "config.json:   0%|          | 0.00/666 [00:00<?, ?B/s]"
            ],
            "application/vnd.jupyter.widget-view+json": {
              "version_major": 2,
              "version_minor": 0,
              "model_id": "94f23a4da3a04e23ae2265b6f686e021"
            }
          },
          "metadata": {}
        },
        {
          "output_type": "display_data",
          "data": {
            "text/plain": [
              "vocab.json:   0%|          | 0.00/1.04M [00:00<?, ?B/s]"
            ],
            "application/vnd.jupyter.widget-view+json": {
              "version_major": 2,
              "version_minor": 0,
              "model_id": "edb8a684caff496988f1de1a89d5f99d"
            }
          },
          "metadata": {}
        },
        {
          "output_type": "display_data",
          "data": {
            "text/plain": [
              "merges.txt:   0%|          | 0.00/456k [00:00<?, ?B/s]"
            ],
            "application/vnd.jupyter.widget-view+json": {
              "version_major": 2,
              "version_minor": 0,
              "model_id": "4dc85e476dfc4262956844755dc48e0f"
            }
          },
          "metadata": {}
        },
        {
          "output_type": "display_data",
          "data": {
            "text/plain": [
              "tokenizer.json:   0%|          | 0.00/1.36M [00:00<?, ?B/s]"
            ],
            "application/vnd.jupyter.widget-view+json": {
              "version_major": 2,
              "version_minor": 0,
              "model_id": "b8353731d14e4dcd8e353d4516b95e60"
            }
          },
          "metadata": {}
        }
      ]
    },
    {
      "cell_type": "markdown",
      "source": [
        "Bu kod parçası, \"gpt2-large\" isimli bir dil modelini yükler ve belirtilen cihaza (CPU veya CUDA uyumlu bir GPU) taşır. İşlem adımları şu şekildedir:\n",
        "\n",
        "1. `AutoModelForCausalLM.from_pretrained(model_name)`: Bu fonksiyon, belirli bir modelin önceden eğitilmiş ağırlıklarını yükler. Burada \"gpt2-large\" modeli için önceden eğitilmiş bir dil modeli yüklenir. `AutoModelForCausalLM`, nedensel dil modellemesi (causal language modeling) için kullanılan modelleri temsil eder. Bu modeller, verilen bir metin dizisinden sonraki kelimeyi tahmin etmek için kullanılabilir.\n",
        "\n",
        "\n",
        "Bu kod parçası, \"gpt2-large\" modelini önceden eğitilmiş ağırlıklarıyla birlikte yükler ve belirtilen cihaza göre ayarlar. Bu sayede, modelin eğitim veya tahmin süreçlerinde belirtilen cihazı kullanması sağlanır, bu da performansı artırabilir veya uygun cihaza bağlı olarak hafızayı daha verimli kullanabilir."
      ],
      "metadata": {
        "id": "ABhjMvMiuF5z"
      }
    },
    {
      "cell_type": "code",
      "source": [
        "model = AutoModelForCausalLM.from_pretrained(model_name).to(device)"
      ],
      "metadata": {
        "colab": {
          "base_uri": "https://localhost:8080/",
          "height": 81,
          "referenced_widgets": [
            "f1baa437b0bb4be29fed2915a9503794",
            "5846080bd0e2467d8a1f013a32673e9a",
            "5bb6399a72944905bb967f24cc02754c",
            "240bea4008934d22b4e28817fe130a56",
            "91846c6021b1410eb5adc6a69645856c",
            "25e652d8a2924ee6becf7d2284a74fbd",
            "8908000cdefb4900bc83b3171189d034",
            "64ae093dd0f74d45a5c781a2ddeb8925",
            "b4782ae541814be2a1aacd6cdf6b387a",
            "1baf5d43b9c344feabf555688b6a9f82",
            "816dfae59c2e4f9c9d0b3fdbc6a19844",
            "4da5ada9e25544c7b4bff649b6952a93",
            "5bd918aa3560454f8b50f3ed6b376715",
            "89cc12b5e5ec459486e2940737be8f83",
            "a5638f9622ff45e4b284bc7e6011d924",
            "fb48f2d2a77848da947a1644a5f41a15",
            "35111be82e61414eaf82a1c34ed45330",
            "9a084c32710847fd9aa048cd3c8b7f4f",
            "2be7c6de4469402b9a4573e81150bf92",
            "fc38c96f0f1e477e9070176a63a47c4a",
            "39ce14d797a34ca9bb49662d6728ba6e",
            "f7fb9de2d83c4fae9dd62fdf3d83e6eb"
          ]
        },
        "id": "OwFMLWYJoYGy",
        "outputId": "f3199d7e-e638-4e0a-d639-c7438d9397c3"
      },
      "execution_count": null,
      "outputs": [
        {
          "output_type": "display_data",
          "data": {
            "text/plain": [
              "model.safetensors:   0%|          | 0.00/3.25G [00:00<?, ?B/s]"
            ],
            "application/vnd.jupyter.widget-view+json": {
              "version_major": 2,
              "version_minor": 0,
              "model_id": "f1baa437b0bb4be29fed2915a9503794"
            }
          },
          "metadata": {}
        },
        {
          "output_type": "display_data",
          "data": {
            "text/plain": [
              "generation_config.json:   0%|          | 0.00/124 [00:00<?, ?B/s]"
            ],
            "application/vnd.jupyter.widget-view+json": {
              "version_major": 2,
              "version_minor": 0,
              "model_id": "4da5ada9e25544c7b4bff649b6952a93"
            }
          },
          "metadata": {}
        }
      ]
    },
    {
      "cell_type": "markdown",
      "source": [
        "Bu kod parçası, belirli bir metin dizisi için belirteçlerin oluşturulmasını ve PyTorch tensorlerine dönüştürülmesini sağlar. İşlem adımları şu şekildedir:\n",
        "\n",
        "1. `tokenizer(input_text, return_tensors=\"pt\")`: Bu satır, önceden yüklenmiş olan belirteçleyiciyi (`tokenizer`) kullanarak `input_text` metin dizisini belirteçlere dönüştürür. `return_tensors=\"pt\"` parametresi, belirteçlerin PyTorch tensorlerine dönüştürülmesini sağlar. Bu şekilde, belirteçlerin işlenmesi ve modelin girişi olarak kullanılabilmesi için uygun bir veri formatı elde edilir.\n",
        "\n",
        "2. `input_ids`: Bu değişken, belirteçlere dönüştürülmüş metnin belirteç kimliklerini (`input_text`) içerir. Bu kimlikler, metindeki her bir kelimenin veya sembolün belirli bir sayısal temsilidir.\n",
        "\n",
        "Örneğin, `\"i am really impressed\"` metni belirteçlere dönüştürüldüğünde, çıktı olarak bir PyTorch tensorü elde edilir. Bu tensor, metnin belirteç kimliklerini içerir ve modelin girişi olarak kullanılabilir. Bu şekilde, metin model tarafından işlenebilir bir formata dönüştürülmüş olur."
      ],
      "metadata": {
        "id": "fOOpR7P9uFWD"
      }
    },
    {
      "cell_type": "code",
      "source": [
        "input_text = \"i am really impressed\"\n",
        "max_length = 128\n",
        "\n",
        "input_ids = tokenizer(input_text,return_tensors = \"pt\")\n",
        "input_ids\n"
      ],
      "metadata": {
        "colab": {
          "base_uri": "https://localhost:8080/"
        },
        "id": "wGhtj5O8oyQR",
        "outputId": "2fbe44f1-2145-44b0-ea08-bb085afd8d1e"
      },
      "execution_count": null,
      "outputs": [
        {
          "output_type": "execute_result",
          "data": {
            "text/plain": [
              "{'input_ids': tensor([[   72,   716,  1107, 12617]]), 'attention_mask': tensor([[1, 1, 1, 1]])}"
            ]
          },
          "metadata": {},
          "execution_count": 9
        }
      ]
    },
    {
      "cell_type": "markdown",
      "source": [
        "Bu kod parçası, önceden belirteçlere dönüştürülmüş metnin belirteç kimliklerini (`input_ids`) belirtilen cihaza (`device`) taşır. İşlem adımları şu şekildedir:\n",
        "\n",
        "1. `input_ids[\"input_ids\"]`: Önceden dönüştürülmüş metnin belirteç kimliklerini (`input_ids`) içeren sözlükten, belirteç kimliklerini temsil eden kısmı alır. Önceden oluşturulan `input_ids` değişkeni bir sözlük yapısında olduğu için, belirteç kimliklerine ulaşmak için \"input_ids\" anahtarını kullanır.\n",
        "\n",
        "2. `.to(device)`: Bu yöntem, belirtilen tensörü belirtilen cihaza (GPU veya CPU) taşır. Önceki adımda belirtilen `device` değişkeni kullanılır. Eğer `device` değişkeni \"cuda\" ise, tensör CUDA uyumlu bir GPU'ya taşınır; aksi halde, tensör CPU'ya taşınır.\n",
        "\n",
        "3. `input_ids`: Bu değişken, belirteç kimliklerini temsil eden PyTorch tensorünü içerir. Bu tensor, modelin girişi olarak kullanılabilir.\n",
        "\n",
        "Bu işlem, önceden belirteçlere dönüştürülmüş metnin belirteç kimliklerini belirtilen cihaza taşıyarak, model tarafından işlenebilir bir formata dönüştürülmesini sağlar. Bu sayede, modelin girişi olarak kullanılmaya hazır hale gelir."
      ],
      "metadata": {
        "id": "wIM8hmw5uZTA"
      }
    },
    {
      "cell_type": "code",
      "source": [
        "input_ids = input_ids[\"input_ids\"].to(device)\n",
        "input_ids"
      ],
      "metadata": {
        "colab": {
          "base_uri": "https://localhost:8080/"
        },
        "id": "4GixGHlgpWoZ",
        "outputId": "ace1a98f-bb36-467c-d63e-5c8d5116b318"
      },
      "execution_count": null,
      "outputs": [
        {
          "output_type": "execute_result",
          "data": {
            "text/plain": [
              "tensor([[   72,   716,  1107, 12617]], device='cuda:0')"
            ]
          },
          "metadata": {},
          "execution_count": 10
        }
      ]
    },
    {
      "cell_type": "markdown",
      "source": [
        "Bu kod parçası, belirli bir giriş belirteç kimliklerini kullanarak modelden bir çıktı metni oluşturur. İşlem adımları şu şekildedir:\n",
        "\n",
        "1. `model.generate(input_ids, max_length=max_length, num_beams=5, do_sample=False)`: Bu satır, modelin `generate` yöntemini kullanarak belirli bir giriş belirteç kimliklerinden (`input_ids`) çıktı metnini oluşturur.\n",
        "\n",
        "   - `max_length`: Oluşturulacak çıktı metninin maksimum uzunluğunu belirtir.\n",
        "   - `num_beams`: Daha iyi sonuçlar için kullanılacak çubuk sayısını belirtir. Çubuklar, modelin olası sonraki kelimeleri tahmin etmek için göz önünde bulundurduğu yolları temsil eder.\n",
        "   - `do_sample`: Eğer `True` ise, sonraki kelimenin rastgele örnekleme yoluyla seçilmesini sağlar; eğer `False` ise, çubuk yöntemiyle sonraki kelimeyi tahmin eder.\n",
        "\n",
        "   Bu parametreler, oluşturulan metnin kalitesini ve doğruluğunu etkiler.\n",
        "\n",
        "2. `output`: Bu değişken, model tarafından oluşturulan çıktı metnini içerir. Oluşturulan metin, belirtilen `max_length` uzunluğunda olacaktır.\n",
        "\n",
        "Bu kod parçası, modelin belirtilen giriş belirteç kimliklerine dayanarak bir metin oluşturmasını sağlar. Oluşturulan metin, belirtilen maksimum uzunlukta olacak ve belirtilen çubuk sayısı ve örnekleme seçeneğiyle (do_sample) belirlenen stratejilere göre üretilecektir."
      ],
      "metadata": {
        "id": "sabQ1o5kuanY"
      }
    },
    {
      "cell_type": "code",
      "source": [
        "output = model.generate(input_ids, max_length = max_length,num_beams = 5,do_sample = False)"
      ],
      "metadata": {
        "colab": {
          "base_uri": "https://localhost:8080/"
        },
        "id": "hP2TueOLpndZ",
        "outputId": "e31a21fb-4e0e-4767-c872-73e4897563e7"
      },
      "execution_count": null,
      "outputs": [
        {
          "output_type": "stream",
          "name": "stderr",
          "text": [
            "The attention mask and the pad token id were not set. As a consequence, you may observe unexpected behavior. Please pass your input's `attention_mask` to obtain reliable results.\n",
            "Setting `pad_token_id` to `eos_token_id`:50256 for open-end generation.\n"
          ]
        }
      ]
    },
    {
      "cell_type": "code",
      "source": [
        "output"
      ],
      "metadata": {
        "colab": {
          "base_uri": "https://localhost:8080/"
        },
        "id": "Cv2Is0-mqG4T",
        "outputId": "b2247b11-60ec-4b05-fa00-0c1dbc710314"
      },
      "execution_count": null,
      "outputs": [
        {
          "output_type": "execute_result",
          "data": {
            "text/plain": [
              "tensor([[   72,   716,  1107, 12617,   351,   262,  3081,   286,   262,  1720,\n",
              "           290,   262,  6491,  2139,    13,   198,   198, 15322,   642,   503,\n",
              "           286,   642,   416, 19200,   422,  3878,  1720,     0,   314,   423,\n",
              "           587,  1262,   428,  1720,   329,   625,   257,   614,   783,   290,\n",
              "           314,   423,  1239,   550,   257,  1917,   351,   340,    13,   314,\n",
              "           423,   587,  1262,   428,  1720,   329,   625,   257,   614,   783,\n",
              "           290,   314,   423,  1239,   550,   257,  1917,   351,   340,    13,\n",
              "           314,   423,   587,  1262,   428,  1720,   329,   625,   257,   614,\n",
              "           783,   290,   314,   423,  1239,   550,   257,  1917,   351,   340,\n",
              "            13,   314,   423,   587,  1262,   428,  1720,   329,   625,   257,\n",
              "           614,   783,   290,   314,   423,  1239,   550,   257,  1917,   351,\n",
              "           340,    13,   314,   423,   587,  1262,   428,  1720,   329,   625,\n",
              "           257,   614,   783,   290,   314,   423,  1239,   550]],\n",
              "       device='cuda:0')"
            ]
          },
          "metadata": {},
          "execution_count": 15
        }
      ]
    },
    {
      "cell_type": "markdown",
      "source": [
        "Bu kod parçası, model tarafından üretilen çıktı belirteçlerini metin haline dönüştürür ve ekrana basar. İşlem adımları şu şekildedir:\n",
        "\n",
        "1. `tokenizer.decode(output[0])`: Bu satır, model tarafından üretilen çıktı belirteçlerini (`output`) metin haline dönüştürür. `tokenizer.decode()` fonksiyonu, belirteçleri metne dönüştürmek için kullanılır. `output[0]`, model tarafından oluşturulan çıktıların ilk öğesini temsil eder.\n",
        "\n",
        "2. `print()`: Bu fonksiyon, verilen değeri ekrana basar.\n",
        "\n",
        "Bu şekilde, model tarafından üretilen çıktı belirteçleri, metin haline dönüştürülerek ekrana basılır. Böylece, modelin oluşturduğu metin görüntülenir."
      ],
      "metadata": {
        "id": "wk5YgCegun-l"
      }
    },
    {
      "cell_type": "code",
      "source": [
        "print(tokenizer.decode(output[0]))"
      ],
      "metadata": {
        "colab": {
          "base_uri": "https://localhost:8080/"
        },
        "id": "5LeaBhvLqJti",
        "outputId": "cda978bf-e7e6-4f72-e217-57eb620caedb"
      },
      "execution_count": null,
      "outputs": [
        {
          "output_type": "stream",
          "name": "stdout",
          "text": [
            "i am really impressed with the quality of the product and the customer service.\n",
            "\n",
            "Rated 5 out of 5 by Anonymous from Great product! I have been using this product for over a year now and I have never had a problem with it. I have been using this product for over a year now and I have never had a problem with it. I have been using this product for over a year now and I have never had a problem with it. I have been using this product for over a year now and I have never had a problem with it. I have been using this product for over a year now and I have never had\n"
          ]
        }
      ]
    },
    {
      "cell_type": "markdown",
      "source": [
        "Bu kod parçası, model tarafından yeni bir çıktı metni oluştururken `no_repeat_ngram_size` parametresini kullanır. Bu parametre, çıktı metninde tekrar eden n-gramları önlemek için kullanılır. İşlem adımları şu şekildedir:\n",
        "\n",
        "1. `model.generate(input_ids, max_length=max_length, num_beams=5, do_sample=False, no_repeat_ngram_size=2)`: Bu satır, modelin `generate` yöntemini kullanarak belirli bir giriş belirteç kimliklerinden (`input_ids`) çıktı metnini oluşturur.\n",
        "\n",
        "   - `no_repeat_ngram_size`: Çıktı metninde tekrar eden n-gramları engellemek için kullanılan bir parametredir. Örneğin, `no_repeat_ngram_size=2` olduğunda, çıktı metninde ardışık olarak tekrar eden iki kelimeden oluşan n-gramlar engellenir. Bu, çıktı metninin daha çeşitli ve tutarlı olmasını sağlar.\n",
        "\n",
        "2. `output2`: Bu değişken, model tarafından oluşturulan yeni çıktı metnini içerir.\n",
        "\n",
        "3. `print(tokenizer.decode(output2[0]))`: Bu satır, model tarafından üretilen yeni çıktı belirteçlerini metin haline dönüştürür ve ekrana basar. `tokenizer.decode()` fonksiyonu, belirteçleri metne dönüştürmek için kullanılır. `output2[0]`, model tarafından oluşturulan yeni çıktıların ilk öğesini temsil eder.\n",
        "\n",
        "Bu şekilde, model tarafından oluşturulan yeni çıktı metni görüntülenir, bu sefer `no_repeat_ngram_size` parametresi kullanılarak tekrar eden n-gramlar engellenir."
      ],
      "metadata": {
        "id": "_Oh7Bsz_uuwB"
      }
    },
    {
      "cell_type": "code",
      "source": [
        "output2 = model.generate(input_ids, max_length = max_length,num_beams = 5,do_sample = False,no_repeat_ngram_size = 2)\n",
        "print(tokenizer.decode(output2[0]))"
      ],
      "metadata": {
        "colab": {
          "base_uri": "https://localhost:8080/"
        },
        "id": "kgZ4H4yyqS_R",
        "outputId": "f218a905-7b9b-4bc5-930a-7a9da1a59759"
      },
      "execution_count": null,
      "outputs": [
        {
          "output_type": "stream",
          "name": "stderr",
          "text": [
            "The attention mask and the pad token id were not set. As a consequence, you may observe unexpected behavior. Please pass your input's `attention_mask` to obtain reliable results.\n",
            "Setting `pad_token_id` to `eos_token_id`:50256 for open-end generation.\n"
          ]
        },
        {
          "output_type": "stream",
          "name": "stdout",
          "text": [
            "i am really impressed with the quality of the product and the customer service.\n",
            "\n",
            "Rated 5 out of 5 by Anonymous from Great product! I have been using this product for over a year now and I am very pleased with it. It is very easy to use and works great. I would recommend it to anyone who is looking for a product that will last a long time.<|endoftext|>\n"
          ]
        }
      ]
    },
    {
      "cell_type": "markdown",
      "source": [
        "Bu kod parçası, model tarafından çıktı metnini oluştururken `top_p` parametresini kullanır. Bu parametre, metnin oluşturulmasında kullanılan olasılık eşiği (probability threshold) olarak işlev görür. İşlem adımları şu şekildedir:\n",
        "\n",
        "1. `model.generate(input_ids, max_length=max_length, num_beams=5, do_sample=False, top_p=1)`: Bu satır, modelin `generate` yöntemini kullanarak belirli bir giriş belirteç kimliklerinden (`input_ids`) çıktı metnini oluşturur.\n",
        "\n",
        "   - `top_p`: Metnin oluşturulmasında kullanılan olasılık eşiği parametresidir. Bu değer, modelin her bir adımda dikkate alacağı token olasılıklarının toplam kümülatif olasılık dağılımı içindeki oranını belirler. Örneğin, `top_p=1` olduğunda, model her adımda en yüksek olasılığa sahip tokeni seçer.\n",
        "\n",
        "2. `output3`: Bu değişken, model tarafından oluşturulan yeni çıktı metnini içerir.\n",
        "\n",
        "3. `print(tokenizer.decode(output3[0]))`: Bu satır, model tarafından üretilen yeni çıktı belirteçlerini metin haline dönüştürür ve ekrana basar. `tokenizer.decode()` fonksiyonu, belirteçleri metne dönüştürmek için kullanılır. `output3[0]`, model tarafından oluşturulan yeni çıktıların ilk öğesini temsil eder.\n",
        "\n",
        "Bu şekilde, model tarafından oluşturulan yeni çıktı metni görüntülenir, bu sefer `top_p` parametresi kullanılarak olasılık eşiği belirlenir. Bu parametre, metin oluşturulurken daha esnek bir yaklaşım sağlar ve modelin daha çeşitli metinler üretmesini sağlayabilir."
      ],
      "metadata": {
        "id": "-G2_BAzxu1ww"
      }
    },
    {
      "cell_type": "code",
      "source": [
        "output3 = model.generate(input_ids, max_length = max_length,num_beams = 5,do_sample = False,top_p = 1)\n",
        "print(tokenizer.decode(output3[0]))"
      ],
      "metadata": {
        "colab": {
          "base_uri": "https://localhost:8080/"
        },
        "id": "LHJwBdALqlxr",
        "outputId": "62ff42b0-1faf-45a8-85f2-3b97d713c291"
      },
      "execution_count": null,
      "outputs": [
        {
          "output_type": "stream",
          "name": "stderr",
          "text": [
            "The attention mask and the pad token id were not set. As a consequence, you may observe unexpected behavior. Please pass your input's `attention_mask` to obtain reliable results.\n",
            "Setting `pad_token_id` to `eos_token_id`:50256 for open-end generation.\n"
          ]
        },
        {
          "output_type": "stream",
          "name": "stdout",
          "text": [
            "i am really impressed with the quality of the product and the customer service.\n",
            "\n",
            "Rated 5 out of 5 by Anonymous from Great product! I have been using this product for over a year now and I have never had a problem with it. I have been using this product for over a year now and I have never had a problem with it. I have been using this product for over a year now and I have never had a problem with it. I have been using this product for over a year now and I have never had a problem with it. I have been using this product for over a year now and I have never had\n"
          ]
        }
      ]
    },
    {
      "cell_type": "code",
      "source": [
        "input_text2 = \"Welcome to KGP talkie Tutorials\"\n",
        "max_length = 128\n",
        "\n",
        "input_ids2 = tokenizer(input_text2,return_tensors = \"pt\")\n",
        "input_ids2 = input_ids2[\"input_ids\"].to(device)\n",
        "\n",
        "output4 = model.generate(input_ids2,max_length = max_length,do_sample = True,top_p = 1)\n",
        "print(tokenizer.decode(output4[0]))"
      ],
      "metadata": {
        "colab": {
          "base_uri": "https://localhost:8080/"
        },
        "id": "1E4pXCKWq6Uk",
        "outputId": "778aea04-f705-4bb9-93f6-b20721192c09"
      },
      "execution_count": null,
      "outputs": [
        {
          "output_type": "stream",
          "name": "stderr",
          "text": [
            "The attention mask and the pad token id were not set. As a consequence, you may observe unexpected behavior. Please pass your input's `attention_mask` to obtain reliable results.\n",
            "Setting `pad_token_id` to `eos_token_id`:50256 for open-end generation.\n"
          ]
        },
        {
          "output_type": "stream",
          "name": "stdout",
          "text": [
            "Welcome to KGP talkie Tutorials - our tutorial series for KGP and the GNU KGP libraries and utilities. Since I created this tutorial, KGP has seen several small updates - the most recent is the addition of support for running the code under GNU Hurd. The most important change is that KGP starts KGP debuggers ( KGP_DEAD_PROG_ADDRESSes instead of KGP_DEAD); you can see an example of this in the \"Debugger\" section of the KGP manual. Before explaining why debuggers can be run, it's important to understand why debugging can work\n"
          ]
        }
      ]
    },
    {
      "cell_type": "markdown",
      "source": [
        "\n",
        "Fonksiyonun adım adım işlevleri şunlardır:\n",
        "\n",
        "1. `tokenizer(text, return_tensors=\"pt\", padding=True, truncation=True)['input_ids']`: Metin girişini belirteçlere dönüştürür ve bu belirteçleri bir PyTorch tensorüne dönüştürür. Ayrıca, padding ve truncation yapılarak belirteçlerin doldurulması ve kırpılması sağlanır.\n",
        "\n",
        "2. `input_ids.ne(tokenizer.pad_token_id)`: Belirteçlerden oluşan girişin dikkat maskesini oluşturur. Dikkat maskesi, modelin dikkatini hangi belirteçlere odaklaması gerektiğini belirtir.\n",
        "\n",
        "3. `input_ids.to(device)` ve `attention_mask.to(device)`: Belirteç kimliklerini ve dikkat maskesini belirtilen cihaza (GPU veya CPU) taşır. Bu, modelin belirtilen cihazda çalışmasını sağlar.\n",
        "\n",
        "4. `model.generate(input_ids, attention_mask=attention_mask, max_length=max_length, do_sample=True, top_p=1)`: Modeli kullanarak belirtilen girişten bir çıktı metni üretir. `generate` fonksiyonu, modelin metin üretme yeteneğini kullanır ve belirtilen parametrelerle (örneğin, maksimum uzunluk, örneklemeye izin verme, vb.) yapılandırılır.\n",
        "\n",
        "5. `tokenizer.decode(output[0])`: Model tarafından üretilen çıktı belirteçlerini metne dönüştürür. `decode` fonksiyonu, belirteçleri metne dönüştürmek için kullanılır.\n",
        "\n",
        "6. `return output_text`: Oluşturulan çıktı metnini döndürür. Bu, orijinal çağrı yapan yere döndürülür ve sonuç olarak elde edilen çıktı metni kullanılabilir."
      ],
      "metadata": {
        "id": "oCBAHYElu8T4"
      }
    },
    {
      "cell_type": "code",
      "source": [
        "def input(text):\n",
        "    input_ids = tokenizer(text, return_tensors=\"pt\", padding=True, truncation=True)['input_ids']\n",
        "    attention_mask = input_ids.ne(tokenizer.pad_token_id)  # Attention maskesi oluştur\n",
        "    input_ids = input_ids.to(device)\n",
        "    attention_mask = attention_mask.to(device)\n",
        "    max_length = 512\n",
        "\n",
        "    output = model.generate(input_ids, attention_mask=attention_mask, max_length=max_length, do_sample=True, top_p=1)\n",
        "    output_text = tokenizer.decode(output[0])\n",
        "    return output_text\n",
        "\n",
        "tokenizer.add_special_tokens({'pad_token': '[PAD]'})\n",
        "\n"
      ],
      "metadata": {
        "colab": {
          "base_uri": "https://localhost:8080/"
        },
        "id": "5kutc999sLJh",
        "outputId": "7045e8ef-3b32-4097-87a5-e7e54fb8d4cc"
      },
      "execution_count": null,
      "outputs": [
        {
          "output_type": "execute_result",
          "data": {
            "text/plain": [
              "0"
            ]
          },
          "metadata": {},
          "execution_count": 60
        }
      ]
    },
    {
      "cell_type": "code",
      "source": [
        "input(\"I'm wondering if you think the Oppenheimer movie or the Barbie movie is better.\")"
      ],
      "metadata": {
        "colab": {
          "base_uri": "https://localhost:8080/",
          "height": 309
        },
        "id": "Vueym7mM28Xb",
        "outputId": "550d963a-64f7-4b05-e3d3-a0e252203c5e"
      },
      "execution_count": null,
      "outputs": [
        {
          "output_type": "stream",
          "name": "stderr",
          "text": [
            "Setting `pad_token_id` to `eos_token_id`:50256 for open-end generation.\n"
          ]
        },
        {
          "output_type": "execute_result",
          "data": {
            "text/plain": [
              "\"I'm wondering if you think the Oppenheimer movie or the Barbie movie is better.\\n\\nWell, I think the Barbie movie is just wonderful and I can't wait to see the Oppenheimer movie. I think that's a different level. You and I have the same opinions and I love Oppenheimer, so that just makes me feel great about the Oppenheimer movie but I think the Oppenheimer movie is just fantastic.\\n\\nThat doesn't mean that that movie is better than the Oppenheimer movie, that's a really different level of art.\\n\\nWell, I hope the Oppenheimer movie is a masterpiece. I really can't wait to see it or something. I mean, it was a real treat to be around people like [director] Andrew Stanton. It's just really great meeting people like Andrew Stanton. I feel like it's a huge honor to be here with him.\\n\\n\\nI'm glad I came back. And that sounds so nice.\\n\\nYeah, I feel great. I didn't think it would be this warm. And I love the people here. I like them.\\n\\nIt doesn't sound like you're going to change your opinion on the future of the human race.\\n\\nI really want to make a world where people have the best lives. I think the best life is really going to be a life that you might care a lot about - a world where everybody has a chance at happiness and fulfillment and happiness for everybody. I think this is a world where everyone can do everything that they want - in their own way and for their own reasons, which is the idea that people have always imagined and will always think of. I've always wanted to make this world.<|endoftext|>\""
            ],
            "application/vnd.google.colaboratory.intrinsic+json": {
              "type": "string"
            }
          },
          "metadata": {},
          "execution_count": 61
        }
      ]
    },
    {
      "cell_type": "code",
      "source": [
        "input(\"Have you watched the Oppenheimer movie?\")"
      ],
      "metadata": {
        "colab": {
          "base_uri": "https://localhost:8080/",
          "height": 212
        },
        "id": "UaSp1ybs2lc2",
        "outputId": "21015e46-5b30-481d-bb36-e4a01f3beea6"
      },
      "execution_count": null,
      "outputs": [
        {
          "output_type": "stream",
          "name": "stderr",
          "text": [
            "Setting `pad_token_id` to `eos_token_id`:50256 for open-end generation.\n"
          ]
        },
        {
          "output_type": "execute_result",
          "data": {
            "text/plain": [
              "'Have you watched the Oppenheimer movie?\\n\\nI think so. But it\\'s pretty funny. There\\'s a scene with him and this young woman who\\'s in an asylum — she doesn\\'t talk to him — and they\\'re lying in bed together and he says, \\'I can\\'t find her a girl to love.\\' And she goes, \\'I\\'m an alcoholic, man!\\' \"\\n\\n\"He says, \\'Let\\'s get married.\\' And she goes, \\'No, I won\\'t, I can\\'t.\\' He said, \\'I don\\'t want anything. I only want you.\\'\"\\n\\nWhy did you want to do this project?\\n\\n\"I\\'ve always been pretty shy about talking about this stuff. I think I\\'m a pretty private person.\"\\n\\nBut do you have a sense what the movie is going to be about?\\n\\n\"I think everything happens for a reason, and you don\\'t really want to get all of it out. But I do want us to have some fun. I do think it\\'s interesting to look at the people who are going through these very difficult things and realize that there are a lot of things that we\\'re fortunate enough to do as humans,\" he says.\\n\\nThe only thing I can say for sure is I like the idea of the movie being about an alcoholic, because I\\'m not one.\"\\n\\nThe film stars Daniele Watts and Anthony Edwards, who played Don and Lola in the film.\\n\\n\"I love the sound design,\" Smith says.\\n\\nThe director is currently in Vancouver shooting a scene in which he\\'s drinking a shot of whiskey for the first time and then waking up at home — all scenes shot at the same time — with a new camera, complete with its own camera operator, that\\'s been mounted on a tripod.\\n\\nThe set, at a historic factory near King George, has the feel of an old film set, with rows of old-fashioned Victorian buildings and a large, old set-carousel. (The set is actually a converted, former factory.)\\n\\nAs he spoke, Smith did a couple of takes of his whiskey shots on a stage near the stage in the warehouse. There, the camera crew was waiting to catch the second take — of the whiskey shots.\\n\\nAnd he took his swill shot, and the director, who had finished drinking, came right back into the set. \"You\\'re all excited!\" he said after catching his breath.\\n\\nThat\\'s the funny thing'"
            ],
            "application/vnd.google.colaboratory.intrinsic+json": {
              "type": "string"
            }
          },
          "metadata": {},
          "execution_count": 62
        }
      ]
    },
    {
      "cell_type": "code",
      "source": [
        "input(\"I love you mylove\")"
      ],
      "metadata": {
        "colab": {
          "base_uri": "https://localhost:8080/",
          "height": 134
        },
        "id": "xlotf82lsx7D",
        "outputId": "610dae91-e3b4-4292-a40b-5f5ec15055dd"
      },
      "execution_count": null,
      "outputs": [
        {
          "output_type": "stream",
          "name": "stderr",
          "text": [
            "Setting `pad_token_id` to `eos_token_id`:50256 for open-end generation.\n"
          ]
        },
        {
          "output_type": "execute_result",
          "data": {
            "text/plain": [
              "'I love you mylove_1\\n\\n\\nMy boyfriend is my baby and I want to stay with you always\\n\\nand I love to see that you like me as much as I love you, my love_1\\n\\nMy boyfriend has already taken my first virginity, my love_1\\n\\n\\nMy boyfriend is my sweet sweet baby and I love him\\n\\nand I love you mylove_1\\n\\nMy boyfriend got me pregnant, my love_1\\n\\nMy boyfriend is my loving sweet baby and I hope for your sake\\n\\nand I love you mylove_1\\n\\n\\nMy boyfriend is my sweet sweet baby'"
            ],
            "application/vnd.google.colaboratory.intrinsic+json": {
              "type": "string"
            }
          },
          "metadata": {},
          "execution_count": 52
        }
      ]
    },
    {
      "cell_type": "markdown",
      "source": [
        "Evet, GPT-2-Large modelini Türkçe metin veri setiyle fine-tuning yaparak Türkçe metinler üretebilirsiniz. Fine-tuning işlemi, modelin önceden eğitildiği genel dil yeteneklerini, belirli bir veri setine (Türkçe metin veri seti gibi) daha iyi uyduracak şekilde ayarlamayı sağlar. Bu sayede, model Türkçe diline daha uygun hale gelir ve Türkçe metinleri daha doğru bir şekilde üretebilir.\n",
        "\n",
        "Fine-tuning için aşağıdaki adımları izleyebilirsiniz:\n",
        "\n",
        "1. **Türkçe Metin Veri Seti Seçimi**: İlk olarak, Türkçe metinlerden oluşan bir veri seti seçmeniz gerekecek. Bu veri seti, modelin Türkçe dil yapısını ve özelliklerini öğrenmesine yardımcı olacaktır.\n",
        "\n",
        "2. **Pretrained GPT-2-Large Modelin Yüklenmesi**: Hugging Face Transformers kütüphanesi gibi kaynaklardan önceden eğitilmiş GPT-2-Large modelini yükleyin.\n",
        "\n",
        "3. **Fine-tuning Verisiyle Modeli Eğitme**: Seçtiğiniz Türkçe metin veri setiyle GPT-2-Large modelini fine-tuning yapın. Bu işlemde, modelin ağırlıklarını ve parametrelerini Türkçe metin verisiyle güncelleyeceksiniz.\n",
        "\n",
        "4. **Eğitilmiş Modelin Kaydedilmesi**: Fine-tuning işlemi tamamlandıktan sonra, eğitilmiş modeli kaydedin.\n",
        "\n",
        "5. **Eğitilmiş Modeli Kullanarak Metin Üretme**: Eğitilmiş modeli kullanarak Türkçe metinler üretin. Modelin eğitiminde kullanılan veri setinden farklı Türkçe metinlerle modeli test edebilirsiniz.\n",
        "\n",
        "Fine-tuning işlemi genellikle modelin spesifik bir dil veya konuda daha iyi performans göstermesini sağlar. Ancak, eğitim verisi kalitesi, modelin mimarisi ve eğitim süresi gibi faktörler sonuçları etkileyebilir. Bu nedenle, fine-tuning işlemini dikkatlice yapmak ve doğruluk sonuçlarını değerlendirmek önemlidir."
      ],
      "metadata": {
        "id": "f_pswydj2S47"
      }
    }
  ]
}